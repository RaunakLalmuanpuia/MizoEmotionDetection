{
 "cells": [
  {
   "cell_type": "code",
   "execution_count": 1,
   "id": "dc89224c",
   "metadata": {},
   "outputs": [],
   "source": [
    "from keras.models import Sequential\n",
    "from keras.layers import Dense, LSTM, Embedding\n",
    "from keras.preprocessing.text import Tokenizer\n",
    "from tensorflow.keras.preprocessing.sequence import pad_sequences\n",
    "from keras.layers import Dropout\n",
    "from sklearn.feature_extraction.text import CountVectorizer\n",
    "from sklearn.model_selection import train_test_split\n",
    "from sklearn.preprocessing import LabelEncoder\n",
    "import numpy as np\n",
    "import re\n",
    "import string\n",
    "import pandas as pd"
   ]
  },
  {
   "cell_type": "code",
   "execution_count": 2,
   "id": "00eaae2c",
   "metadata": {},
   "outputs": [
    {
     "data": {
      "text/html": [
       "<div>\n",
       "<style scoped>\n",
       "    .dataframe tbody tr th:only-of-type {\n",
       "        vertical-align: middle;\n",
       "    }\n",
       "\n",
       "    .dataframe tbody tr th {\n",
       "        vertical-align: top;\n",
       "    }\n",
       "\n",
       "    .dataframe thead th {\n",
       "        text-align: right;\n",
       "    }\n",
       "</style>\n",
       "<table border=\"1\" class=\"dataframe\">\n",
       "  <thead>\n",
       "    <tr style=\"text-align: right;\">\n",
       "      <th></th>\n",
       "      <th>Emotion</th>\n",
       "      <th>Text</th>\n",
       "    </tr>\n",
       "  </thead>\n",
       "  <tbody>\n",
       "    <tr>\n",
       "      <th>0</th>\n",
       "      <td>neutral</td>\n",
       "      <td>@dannycastillo Houston ticket neitu nen kan in...</td>\n",
       "    </tr>\n",
       "    <tr>\n",
       "      <th>1</th>\n",
       "      <td>neutral</td>\n",
       "      <td>cant fall muhil thei lo</td>\n",
       "    </tr>\n",
       "    <tr>\n",
       "      <th>2</th>\n",
       "      <td>neutral</td>\n",
       "      <td>Balisage Markup Conference 2009 Program-a No T...</td>\n",
       "    </tr>\n",
       "    <tr>\n",
       "      <th>3</th>\n",
       "      <td>neutral</td>\n",
       "      <td>@cynthia_123 i muhil thei lo</td>\n",
       "    </tr>\n",
       "    <tr>\n",
       "      <th>4</th>\n",
       "      <td>neutral</td>\n",
       "      <td>Bus bl***y chu ka miss ta!!!!!!!!</td>\n",
       "    </tr>\n",
       "  </tbody>\n",
       "</table>\n",
       "</div>"
      ],
      "text/plain": [
       "   Emotion                                               Text\n",
       "0  neutral  @dannycastillo Houston ticket neitu nen kan in...\n",
       "1  neutral                            cant fall muhil thei lo\n",
       "2  neutral  Balisage Markup Conference 2009 Program-a No T...\n",
       "3  neutral                       @cynthia_123 i muhil thei lo\n",
       "4  neutral                  Bus bl***y chu ka miss ta!!!!!!!!"
      ]
     },
     "execution_count": 2,
     "metadata": {},
     "output_type": "execute_result"
    }
   ],
   "source": [
    "# import dataset\n",
    "df = pd.read_csv(\"dataset.csv\")\n",
    "df.head()"
   ]
  },
  {
   "cell_type": "code",
   "execution_count": 3,
   "id": "0898ce40",
   "metadata": {},
   "outputs": [],
   "source": [
    "#shuffle the dataset\n",
    "df = df.sample(frac = 1)"
   ]
  },
  {
   "cell_type": "code",
   "execution_count": 4,
   "id": "32569205",
   "metadata": {},
   "outputs": [],
   "source": [
    "# text processing function \n",
    "def clean_text(text):\n",
    "    # to lower case\n",
    "    text = text.lower()\n",
    "    # remove links\n",
    "    text = re.sub('https:\\/\\/\\S+', '', text) \n",
    "    # remove punctuation\n",
    "    text = re.sub('[%s]' % re.escape(string.punctuation), '', text) \n",
    "    # remove next line     \n",
    "    text = re.sub(r'[^ \\w\\.]', '', text) \n",
    "    # remove words containing numbers\n",
    "    text = re.sub('\\w*\\d\\w*', '', text)\n",
    "    \n",
    "    return text\n",
    "# Create a new column called \"Text\" for collecting clean text\n",
    "df['Text'] = df.Text.apply(lambda x: clean_text(x))"
   ]
  },
  {
   "cell_type": "code",
   "execution_count": 5,
   "id": "f20fa861",
   "metadata": {},
   "outputs": [],
   "source": [
    "# Stop word in  mizo language\n",
    "stop_words  = \"a, i si a min em  le tak te e in he u tih ka va keimah keini kan keimahni nangmah nangma nangmahni ngei pawh ani amah a ta chu ni chumi anni an engnge khawi tunge hei sawmi hengte hi tawh nei ti mek leh mahse chuan emaw avang angin hma laiin tan hmunah tu nen lam kalh karah chhungah tlang hmaah hnuah chungah hnuai ah atangin chunglam hnuailam chhung pawn titawp hla zawk tichuan vawikhat hetah sawtah engtikah khawnge engati nge engtin zavai engpawh pahnihin vek tlem belh ber thildang engemawzat chutiang aih ve chauh inang chuvangin aiin lutuk thei duhdan chiah don tur tunah\"\n",
    "\n",
    "# Convert to lower case\n",
    "stop_words = stop_words.lower()\n",
    "\n",
    "# convert string to list\n",
    "def Convert(string):\n",
    "    li = list(string.split(\" \"))\n",
    "    return li\n",
    "\n",
    "\n",
    "stop_word_list = Convert(stop_words)\n",
    "\n",
    "# Remove stop words\n",
    "df['Text'] = df['Text'].apply(lambda x: ' '.join([word for word in x.split() if word not in (stop_word_list)]))"
   ]
  },
  {
   "cell_type": "code",
   "execution_count": 6,
   "id": "61b47851",
   "metadata": {},
   "outputs": [
    {
     "name": "stdout",
     "output_type": "stream",
     "text": [
      "Epoch 1/10\n",
      "299/299 [==============================] - 38s 102ms/step - loss: 1.4437 - accuracy: 0.3836 - val_loss: 1.2692 - val_accuracy: 0.4822\n",
      "Epoch 2/10\n",
      "299/299 [==============================] - 30s 99ms/step - loss: 1.0819 - accuracy: 0.5837 - val_loss: 0.9810 - val_accuracy: 0.6507\n",
      "Epoch 3/10\n",
      "299/299 [==============================] - 30s 100ms/step - loss: 0.7578 - accuracy: 0.7332 - val_loss: 0.8969 - val_accuracy: 0.6855\n",
      "Epoch 4/10\n",
      "299/299 [==============================] - 31s 105ms/step - loss: 0.5994 - accuracy: 0.7880 - val_loss: 0.9067 - val_accuracy: 0.6969\n",
      "Epoch 5/10\n",
      "299/299 [==============================] - 31s 104ms/step - loss: 0.5080 - accuracy: 0.8222 - val_loss: 0.9348 - val_accuracy: 0.6964\n",
      "Epoch 6/10\n",
      "299/299 [==============================] - 31s 102ms/step - loss: 0.4707 - accuracy: 0.8350 - val_loss: 0.9494 - val_accuracy: 0.6969\n",
      "Epoch 7/10\n",
      "299/299 [==============================] - 30s 99ms/step - loss: 0.4335 - accuracy: 0.8485 - val_loss: 0.9584 - val_accuracy: 0.6901\n",
      "Epoch 8/10\n",
      "299/299 [==============================] - 30s 100ms/step - loss: 0.4043 - accuracy: 0.8530 - val_loss: 0.9904 - val_accuracy: 0.6918\n",
      "Epoch 9/10\n",
      "299/299 [==============================] - 30s 100ms/step - loss: 0.3892 - accuracy: 0.8579 - val_loss: 1.0281 - val_accuracy: 0.6906\n",
      "Epoch 10/10\n",
      "299/299 [==============================] - 30s 102ms/step - loss: 0.3584 - accuracy: 0.8705 - val_loss: 1.0536 - val_accuracy: 0.6834\n"
     ]
    }
   ],
   "source": [
    "from sklearn.feature_extraction.text import CountVectorizer\n",
    "from sklearn.preprocessing import MultiLabelBinarizer\n",
    "from tensorflow.keras.preprocessing.text import Tokenizer\n",
    "from tensorflow.keras.preprocessing.sequence import pad_sequences\n",
    "from tensorflow.keras.models import Sequential\n",
    "from tensorflow.keras.layers import LSTM, Dense\n",
    "from sklearn.model_selection import train_test_split\n",
    "from sklearn.pipeline import Pipeline\n",
    "\n",
    "# Define the labels\n",
    "labels = df[\"Emotion\"].apply(lambda x: x.split(','))\n",
    "\n",
    "# Binarize the labels\n",
    "mlb = MultiLabelBinarizer()\n",
    "y = mlb.fit_transform(labels)\n",
    "\n",
    "# The hyperparameters required to tune the network.\n",
    "vocab_size = 10000\n",
    "embedding_dim = 16\n",
    "max_length = 120\n",
    "trunc_type='post'\n",
    "oov_tok = \"<OOV>\"\n",
    "\n",
    "# Tokenize and pad the sequences\n",
    "tokenizer = Tokenizer(num_words = vocab_size, oov_token=oov_tok)\n",
    "tokenizer.fit_on_texts(df[\"Text\"])\n",
    "sequences = tokenizer.texts_to_sequences(df[\"Text\"])\n",
    "padded_sequences = pad_sequences(sequences,maxlen=max_length,truncating=trunc_type)\n",
    "max_length = padded_sequences.shape[1]\n",
    "\n",
    "# Compute the count vectorization features for the padded sequences\n",
    "cv = CountVectorizer()\n",
    "cv_matrix = cv.fit_transform([' '.join([str(word) for word in sequence]) for sequence in padded_sequences])\n",
    "cv_matrix_dense = cv_matrix.toarray()\n",
    "\n",
    "# Reshape the cv_matrix_dense to a 3D tensor\n",
    "cv_matrix_3d = cv_matrix_dense.reshape((cv_matrix_dense.shape[0], 1, cv_matrix_dense.shape[1]))\n",
    "\n",
    "# Split the data into training and testing sets\n",
    "X_train, X_test, y_train, y_test = train_test_split(cv_matrix_3d, y, test_size=0.2, random_state=42)\n",
    "\n",
    "# Define the LSTM model architecture\n",
    "model = Sequential()\n",
    "model.add(LSTM(units=64, input_shape=(cv_matrix_3d.shape[1], cv_matrix_3d.shape[2]), dropout=0.2, recurrent_dropout=0.2, return_sequences=True))\n",
    "model.add(LSTM(units=32, dropout=0.2, recurrent_dropout=0.2))\n",
    "model.add(Dense(64, activation='relu'))\n",
    "model.add(Dropout(0.2))\n",
    "model.add(Dense(units=y.shape[1], activation='softmax'))\n",
    "\n",
    "# Compile and train the model\n",
    "model.compile(optimizer='adam', loss='categorical_crossentropy', metrics=['accuracy'])\n",
    "history = model.fit(X_train, y_train, epochs=10, validation_data=(X_test, y_test))\n",
    "\n"
   ]
  },
  {
   "cell_type": "code",
   "execution_count": 19,
   "id": "f6233e9a",
   "metadata": {},
   "outputs": [
    {
     "name": "stdout",
     "output_type": "stream",
     "text": [
      "68/68 [==============================] - 1s 14ms/step - loss: 1.0510 - accuracy: 0.6988\n",
      "Test loss: 1.0509588718414307\n",
      "Test accuracy: 0.6988344788551331\n"
     ]
    }
   ],
   "source": [
    "# Evaluate the model\n",
    "loss, accuracy = model.evaluate(X_test, y_test)\n",
    "print(f\"Test loss: {loss}\")\n",
    "print(f\"Test accuracy: {accuracy}\")"
   ]
  },
  {
   "cell_type": "code",
   "execution_count": 20,
   "id": "f4d20c13",
   "metadata": {},
   "outputs": [
    {
     "name": "stdout",
     "output_type": "stream",
     "text": [
      "68/68 [==============================] - 2s 14ms/step\n",
      "Accuracy: 0.6988344988344989\n",
      "Precision: 0.6979224175408144\n",
      "Recall: 0.6988344988344989\n",
      "F1 score: 0.6975393933105097\n"
     ]
    }
   ],
   "source": [
    "from sklearn.metrics import accuracy_score, precision_score, recall_score, f1_score\n",
    "\n",
    "# Load the predicted and actual labels\n",
    "y_pred = model.predict(X_test)\n",
    "y_pred = np.argmax(y_pred, axis=1)\n",
    "y_true = np.argmax(y_test, axis=1)\n",
    "\n",
    "# Calculate accuracy, precision, recall, and F1 score\n",
    "accuracy = accuracy_score(y_true, y_pred)\n",
    "precision = precision_score(y_true, y_pred, average='weighted')\n",
    "recall = recall_score(y_true, y_pred, average='weighted')\n",
    "f1 = f1_score(y_true, y_pred, average='weighted')\n",
    "\n",
    "print(f\"Accuracy: {accuracy}\")\n",
    "print(f\"Precision: {precision}\")\n",
    "print(f\"Recall: {recall}\")\n",
    "print(f\"F1 score: {f1}\")"
   ]
  },
  {
   "cell_type": "code",
   "execution_count": 21,
   "id": "f830e015",
   "metadata": {},
   "outputs": [
    {
     "data": {
      "image/png": "[encoded data removed]",
      "text/plain": [
       "<Figure size 640x480 with 1 Axes>"
      ]
     },
     "metadata": {},
     "output_type": "display_data"
    }
   ],
   "source": [
    "import matplotlib.pyplot as plt\n",
    "\n",
    "# Get the training and validation scores from the history object returned by the fit() method\n",
    "train_scores = history.history['accuracy']\n",
    "val_scores = history.history['val_accuracy']\n",
    "\n",
    "# Plot the training and validation scores on a line graph\n",
    "plt.plot(train_scores, label='Training Score')\n",
    "plt.plot(val_scores, label='Validation Score')\n",
    "plt.title('Training and Validation Scores')\n",
    "plt.xlabel('Epochs')\n",
    "plt.ylabel('Accuracy')\n",
    "plt.legend()\n",
    "plt.show()"
   ]
  },
  {
   "cell_type": "code",
   "execution_count": 6,
   "id": "9fffaefa",
   "metadata": {},
   "outputs": [
    {
     "name": "stdout",
     "output_type": "stream",
     "text": [
      "1/1 [==============================] - 1s 505ms/step\n",
      "('anger',)\n"
     ]
    }
   ],
   "source": [
    "import numpy as np\n",
    "\n",
    "# Create a pipeline for predicting using new text\n",
    "def predict_emotion(text):\n",
    "    sequence = tokenizer.texts_to_sequences([text])\n",
    "    padded_sequence = pad_sequences(sequence, maxlen=max_length,truncating=trunc_type)\n",
    "    cv_sequence = cv.transform([' '.join([str(word) for word in sequence]) for sequence in padded_sequence])\n",
    "    cv_sequence_dense = cv_sequence.toarray()\n",
    "    cv_sequence_3d = cv_sequence_dense.reshape((cv_sequence_dense.shape[0], 1, cv_sequence_dense.shape[1]))\n",
    "    predictions = model.predict(cv_sequence_3d)\n",
    "    predicted_labels_binary = np.zeros_like(predictions)\n",
    "    predicted_labels_binary[np.arange(len(predictions)), predictions.argmax(1)] = 1\n",
    "    predicted_labels = mlb.inverse_transform(predicted_labels_binary)[0]\n",
    "    return predicted_labels\n",
    "\n",
    "# Test the pipeline\n",
    "text = \"ka thinrim\"\n",
    "predicted_labels = predict_emotion(text)\n",
    "print(predicted_labels)\n"
   ]
  },
  {
   "cell_type": "code",
   "execution_count": 11,
   "id": "0054f517",
   "metadata": {},
   "outputs": [],
   "source": [
    "word_index = tokenizer.word_index"
   ]
  },
  {
   "cell_type": "code",
   "execution_count": null,
   "id": "7e5f2bef",
   "metadata": {},
   "outputs": [],
   "source": [
    "# one of the preprocessed sentence.\n",
    "reverse_word_index = dict([(value, key) for (key, value) in word_index.items()])\n",
    "def decode_review(text):\n",
    "    return ' '.join([reverse_word_index.get(i, '?') for i in text])\n",
    "print(decode_review(padded_sequences[2]))"
   ]
  },
  {
   "cell_type": "code",
   "execution_count": null,
   "id": "0105ae14",
   "metadata": {},
   "outputs": [],
   "source": [
    "df.head()"
   ]
  },
  {
   "cell_type": "code",
   "execution_count": 7,
   "id": "b34eaf7c",
   "metadata": {},
   "outputs": [],
   "source": [
    "# Independent variables (no target column)\n",
    "Xfeatures = df[\"Text\"]\n",
    "# Targets\n",
    "ylabels = df[\"Emotion\"]"
   ]
  },
  {
   "cell_type": "code",
   "execution_count": 12,
   "id": "d0d8a4fd",
   "metadata": {},
   "outputs": [],
   "source": [
    "# Tokenize the text data using CountVectorizer\n",
    "vectorizer = CountVectorizer()\n",
    "vectorizer.fit(Xfeatures)\n",
    "tokenized_data = vectorizer.transform(Xfeatures)"
   ]
  },
  {
   "cell_type": "code",
   "execution_count": 14,
   "id": "4d808d0b",
   "metadata": {},
   "outputs": [],
   "source": [
    "# Reshape the count vectors into a 3D numpy array\n",
    "reshaped_data = np.reshape(tokenized_data.toarray(), (len(Xfeatures), tokenized_data.shape[1], 1))"
   ]
  },
  {
   "cell_type": "code",
   "execution_count": 15,
   "id": "a8f3c780",
   "metadata": {},
   "outputs": [],
   "source": [
    "model = Sequential()\n",
    "model.add(LSTM(64, input_shape=(tokenized_data.shape[1], 1),dropout=0.2, recurrent_dropout=0.2, return_sequences=True ))\n",
    "model.add(LSTM(units=32, dropout=0.2, recurrent_dropout=0.2))\n",
    "model.add(Dense(64, activation='relu'))\n",
    "model.add(Dropout(0.2))\n",
    "model.add(Dense(units=y.shape[1], activation='softmax'))"
   ]
  },
  {
   "cell_type": "code",
   "execution_count": 16,
   "id": "b19c7ff2",
   "metadata": {},
   "outputs": [],
   "source": [
    "# Define the labels\n",
    "labels = df[\"Emotion\"].apply(lambda x: x.split(','))\n",
    "\n",
    "# Binarize the labels\n",
    "mlb = MultiLabelBinarizer()\n",
    "y = mlb.fit_transform(labels)\n"
   ]
  },
  {
   "cell_type": "code",
   "execution_count": null,
   "id": "2ac8ad00",
   "metadata": {},
   "outputs": [],
   "source": []
  }
 ],
 "metadata": {
  "kernelspec": {
   "display_name": "Python 3 (ipykernel)",
   "language": "python",
   "name": "python3"
  },
  "language_info": {
   "codemirror_mode": {
    "name": "ipython",
    "version": 3
   },
   "file_extension": ".py",
   "mimetype": "text/x-python",
   "name": "python",
   "nbconvert_exporter": "python",
   "pygments_lexer": "ipython3",
   "version": "3.9.13"
  }
 },
 "nbformat": 4,
 "nbformat_minor": 5
}
