{
 "cells": [
  {
   "cell_type": "code",
   "execution_count": 1,
   "id": "d9a27d67",
   "metadata": {},
   "outputs": [],
   "source": [
    "from keras.models import Sequential\n",
    "from keras.layers import Dense, LSTM, Embedding\n",
    "from keras.preprocessing.text import Tokenizer\n",
    "from tensorflow.keras.preprocessing.sequence import pad_sequences\n",
    "from keras.layers import Dropout\n",
    "from sklearn.feature_extraction.text import CountVectorizer\n",
    "from sklearn.model_selection import train_test_split\n",
    "from sklearn.preprocessing import LabelEncoder\n",
    "import numpy as np\n",
    "import re\n",
    "import string\n",
    "import pandas as pd"
   ]
  },
  {
   "cell_type": "code",
   "execution_count": 2,
   "id": "94189f53",
   "metadata": {},
   "outputs": [
    {
     "data": {
      "text/html": [
       "<div>\n",
       "<style scoped>\n",
       "    .dataframe tbody tr th:only-of-type {\n",
       "        vertical-align: middle;\n",
       "    }\n",
       "\n",
       "    .dataframe tbody tr th {\n",
       "        vertical-align: top;\n",
       "    }\n",
       "\n",
       "    .dataframe thead th {\n",
       "        text-align: right;\n",
       "    }\n",
       "</style>\n",
       "<table border=\"1\" class=\"dataframe\">\n",
       "  <thead>\n",
       "    <tr style=\"text-align: right;\">\n",
       "      <th></th>\n",
       "      <th>Emotion</th>\n",
       "      <th>Text</th>\n",
       "    </tr>\n",
       "  </thead>\n",
       "  <tbody>\n",
       "    <tr>\n",
       "      <th>0</th>\n",
       "      <td>neutral</td>\n",
       "      <td>@dannycastillo Houston ticket neitu nen kan in...</td>\n",
       "    </tr>\n",
       "    <tr>\n",
       "      <th>1</th>\n",
       "      <td>neutral</td>\n",
       "      <td>cant fall muhil thei lo</td>\n",
       "    </tr>\n",
       "    <tr>\n",
       "      <th>2</th>\n",
       "      <td>neutral</td>\n",
       "      <td>Balisage Markup Conference 2009 Program-a No T...</td>\n",
       "    </tr>\n",
       "    <tr>\n",
       "      <th>3</th>\n",
       "      <td>neutral</td>\n",
       "      <td>@cynthia_123 i muhil thei lo</td>\n",
       "    </tr>\n",
       "    <tr>\n",
       "      <th>4</th>\n",
       "      <td>neutral</td>\n",
       "      <td>Bus bl***y chu ka miss ta!!!!!!!!</td>\n",
       "    </tr>\n",
       "  </tbody>\n",
       "</table>\n",
       "</div>"
      ],
      "text/plain": [
       "   Emotion                                               Text\n",
       "0  neutral  @dannycastillo Houston ticket neitu nen kan in...\n",
       "1  neutral                            cant fall muhil thei lo\n",
       "2  neutral  Balisage Markup Conference 2009 Program-a No T...\n",
       "3  neutral                       @cynthia_123 i muhil thei lo\n",
       "4  neutral                  Bus bl***y chu ka miss ta!!!!!!!!"
      ]
     },
     "execution_count": 2,
     "metadata": {},
     "output_type": "execute_result"
    }
   ],
   "source": [
    "# import dataset\n",
    "df = pd.read_csv(\"dataset.csv\")\n",
    "df.head()"
   ]
  },
  {
   "cell_type": "code",
   "execution_count": 3,
   "id": "99d66274",
   "metadata": {},
   "outputs": [],
   "source": [
    "#shuffle the dataset\n",
    "df = df.sample(frac = 1)"
   ]
  },
  {
   "cell_type": "code",
   "execution_count": 4,
   "id": "b7eafa69",
   "metadata": {},
   "outputs": [],
   "source": [
    "# text processing function \n",
    "def clean_text(text):\n",
    "    # to lower case\n",
    "    text = text.lower()\n",
    "    # remove links\n",
    "    text = re.sub('https:\\/\\/\\S+', '', text) \n",
    "    # remove punctuation\n",
    "    text = re.sub('[%s]' % re.escape(string.punctuation), '', text) \n",
    "    # remove next line     \n",
    "    text = re.sub(r'[^ \\w\\.]', '', text) \n",
    "    # remove words containing numbers\n",
    "    text = re.sub('\\w*\\d\\w*', '', text)\n",
    "    \n",
    "    return text\n",
    "# Create a new column called \"Text\" for collecting clean text\n",
    "df['Text'] = df.Text.apply(lambda x: clean_text(x))"
   ]
  },
  {
   "cell_type": "code",
   "execution_count": 5,
   "id": "fd269779",
   "metadata": {},
   "outputs": [],
   "source": [
    "# Stop word in  mizo language\n",
    "stop_words  = \"a, i si a min em  le tak te e in he u tih ka va keimah keini kan keimahni nangmah nangma nangmahni ngei pawh ani amah a ta chu ni chumi anni an engnge khawi tunge hei sawmi hengte hi tawh nei ti mek leh mahse chuan emaw avang angin hma laiin tan hmunah tu nen lam kalh karah chhungah tlang hmaah hnuah chungah hnuai ah atangin chunglam hnuailam chhung pawn titawp hla zawk tichuan vawikhat hetah sawtah engtikah khawnge engati nge engtin zavai engpawh pahnihin vek tlem belh ber thildang engemawzat chutiang aih ve chauh inang chuvangin aiin lutuk thei duhdan chiah don tur tunah\"\n",
    "\n",
    "# Convert to lower case\n",
    "stop_words = stop_words.lower()\n",
    "\n",
    "# convert string to list\n",
    "def Convert(string):\n",
    "    li = list(string.split(\" \"))\n",
    "    return li\n",
    "\n",
    "\n",
    "stop_word_list = Convert(stop_words)\n",
    "\n",
    "# Remove stop words\n",
    "df['Text'] = df['Text'].apply(lambda x: ' '.join([word for word in x.split() if word not in (stop_word_list)]))"
   ]
  },
  {
   "cell_type": "code",
   "execution_count": 8,
   "id": "913b3d43",
   "metadata": {},
   "outputs": [
    {
     "name": "stdout",
     "output_type": "stream",
     "text": [
      "Epoch 1/10\n",
      "299/299 [==============================] - 61s 141ms/step - loss: 1.4503 - accuracy: 0.3755 - val_loss: 1.2762 - val_accuracy: 0.4717\n",
      "Epoch 2/10\n",
      "299/299 [==============================] - 38s 126ms/step - loss: 1.1304 - accuracy: 0.5353 - val_loss: 1.0803 - val_accuracy: 0.5816\n",
      "Epoch 3/10\n",
      "299/299 [==============================] - 39s 131ms/step - loss: 0.8522 - accuracy: 0.6715 - val_loss: 1.0318 - val_accuracy: 0.6210\n",
      "Epoch 4/10\n",
      "299/299 [==============================] - 38s 126ms/step - loss: 0.6939 - accuracy: 0.7486 - val_loss: 1.0294 - val_accuracy: 0.6226\n",
      "Epoch 5/10\n",
      "299/299 [==============================] - 39s 129ms/step - loss: 0.6035 - accuracy: 0.7891 - val_loss: 1.0217 - val_accuracy: 0.6319\n",
      "Epoch 6/10\n",
      "299/299 [==============================] - 40s 133ms/step - loss: 0.5410 - accuracy: 0.8174 - val_loss: 1.0247 - val_accuracy: 0.6436\n",
      "Epoch 7/10\n",
      "299/299 [==============================] - 40s 134ms/step - loss: 0.4857 - accuracy: 0.8307 - val_loss: 1.0865 - val_accuracy: 0.6428\n",
      "Epoch 8/10\n",
      "299/299 [==============================] - 39s 130ms/step - loss: 0.4487 - accuracy: 0.8436 - val_loss: 1.0465 - val_accuracy: 0.6528\n",
      "Epoch 9/10\n",
      "299/299 [==============================] - 39s 131ms/step - loss: 0.4279 - accuracy: 0.8492 - val_loss: 1.1137 - val_accuracy: 0.6440\n",
      "Epoch 10/10\n",
      "299/299 [==============================] - 37s 125ms/step - loss: 0.4057 - accuracy: 0.8615 - val_loss: 1.0865 - val_accuracy: 0.6453\n"
     ]
    }
   ],
   "source": [
    "from sklearn.model_selection import train_test_split\n",
    "from sklearn.preprocessing import MultiLabelBinarizer\n",
    "from sklearn.feature_extraction.text import TfidfVectorizer\n",
    "\n",
    "# Define the labels\n",
    "labels = df[\"Emotion\"].apply(lambda x: x.split(','))\n",
    "\n",
    "# Binarize the labels\n",
    "mlb = MultiLabelBinarizer()\n",
    "y = mlb.fit_transform(labels)\n",
    "\n",
    "# The hyperparameters required to tune the network.\n",
    "vocab_size = 10000\n",
    "embedding_dim = 16\n",
    "max_length = 120\n",
    "trunc_type='post'\n",
    "oov_tok = \"<OOV>\"\n",
    "\n",
    "# Tokenize and pad the sequences\n",
    "tokenizer = Tokenizer(oov_token=oov_tok)\n",
    "tokenizer.fit_on_texts(df[\"Text\"])\n",
    "sequences = tokenizer.texts_to_sequences(df[\"Text\"])\n",
    "padded_sequences = pad_sequences(sequences,maxlen=max_length,truncating=trunc_type)\n",
    "max_length = padded_sequences.shape[1]\n",
    "\n",
    "# Compute the TF-IDF features for the padded sequences\n",
    "tfidf = TfidfVectorizer()\n",
    "tfidf_matrix = tfidf.fit_transform([' '.join([str(word) for word in sequence]) for sequence in padded_sequences])\n",
    "tfidf_matrix_dense = tfidf_matrix.toarray()\n",
    "\n",
    "# Reshape the tfidf_matrix_dense to a 3D tensor\n",
    "tfidf_matrix_3d = tfidf_matrix_dense.reshape((tfidf_matrix_dense.shape[0], 1, tfidf_matrix_dense.shape[1]))\n",
    "\n",
    "# Split the data into training and test sets\n",
    "X_train, X_test, y_train, y_test = train_test_split(tfidf_matrix_3d, y, test_size=0.2)\n",
    "\n",
    "# Define the LSTM model architecture\n",
    "model = Sequential()\n",
    "model.add(LSTM(units=64, input_shape=(tfidf_matrix_3d.shape[1], tfidf_matrix_3d.shape[2]), dropout=0.2, recurrent_dropout=0.2, return_sequences=True))\n",
    "model.add(LSTM(units=32, dropout=0.2, recurrent_dropout=0.2))\n",
    "model.add(Dense(64, activation='relu'))\n",
    "model.add(Dropout(0.2))\n",
    "model.add(Dense(units=y.shape[1], activation='softmax'))\n",
    "\n",
    "# Compile and train the model\n",
    "model.compile(optimizer='adam', loss='categorical_crossentropy', metrics=['accuracy'])\n",
    "history = model.fit(X_train, y_train, epochs=10, validation_data=(X_test, y_test))\n",
    "\n"
   ]
  },
  {
   "cell_type": "code",
   "execution_count": 9,
   "id": "066cc712",
   "metadata": {},
   "outputs": [
    {
     "name": "stdout",
     "output_type": "stream",
     "text": [
      "75/75 [==============================] - 1s 16ms/step - loss: 1.0865 - accuracy: 0.6453\n",
      "Test Loss: 1.0864506959915161, Test Accuracy: 0.645283043384552\n"
     ]
    }
   ],
   "source": [
    "# Evaluate the model on the test set\n",
    "loss, accuracy = model.evaluate(X_test, y_test)\n",
    "print(f'Test Loss: {loss}, Test Accuracy: {accuracy}')"
   ]
  },
  {
   "cell_type": "code",
   "execution_count": 10,
   "id": "753073fc",
   "metadata": {},
   "outputs": [
    {
     "name": "stdout",
     "output_type": "stream",
     "text": [
      "75/75 [==============================] - 2s 17ms/step\n",
      "Accuracy: 0.6452830188679245\n",
      "Precision: 0.6512456138259554\n",
      "Recall: 0.6452830188679245\n",
      "F1 score: 0.6454785190527237\n"
     ]
    }
   ],
   "source": [
    "from sklearn.metrics import accuracy_score, precision_score, recall_score, f1_score\n",
    "\n",
    "# Load the predicted and actual labels\n",
    "y_pred = model.predict(X_test)\n",
    "y_pred = np.argmax(y_pred, axis=1)\n",
    "y_true = np.argmax(y_test, axis=1)\n",
    "\n",
    "# Calculate accuracy, precision, recall, and F1 score\n",
    "accuracy = accuracy_score(y_true, y_pred)\n",
    "precision = precision_score(y_true, y_pred, average='weighted')\n",
    "recall = recall_score(y_true, y_pred, average='weighted')\n",
    "f1 = f1_score(y_true, y_pred, average='weighted')\n",
    "\n",
    "print(f\"Accuracy: {accuracy}\")\n",
    "print(f\"Precision: {precision}\")\n",
    "print(f\"Recall: {recall}\")\n",
    "print(f\"F1 score: {f1}\")"
   ]
  },
  {
   "cell_type": "code",
   "execution_count": 11,
   "id": "487a7fe7",
   "metadata": {},
   "outputs": [
    {
     "data": {
      "image/png": "[encoded data removed]",
      "text/plain": [
       "<Figure size 640x480 with 1 Axes>"
      ]
     },
     "metadata": {},
     "output_type": "display_data"
    }
   ],
   "source": [
    "import matplotlib.pyplot as plt\n",
    "\n",
    "# Get the training and validation scores from the history object returned by the fit() method\n",
    "train_scores = history.history['accuracy']\n",
    "val_scores = history.history['val_accuracy']\n",
    "\n",
    "# Plot the training and validation scores on a line graph\n",
    "plt.plot(train_scores, label='Training Score')\n",
    "plt.plot(val_scores, label='Validation Score')\n",
    "plt.title('Training and Validation Scores')\n",
    "plt.xlabel('Epochs')\n",
    "plt.ylabel('Accuracy')\n",
    "plt.legend()\n",
    "plt.show()\n"
   ]
  },
  {
   "cell_type": "code",
   "execution_count": 12,
   "id": "be6cde21",
   "metadata": {},
   "outputs": [],
   "source": [
    "def predict_emotion(text):\n",
    "    sequence = tokenizer.texts_to_sequences([text])\n",
    "    padded_sequence = pad_sequences(sequence, maxlen=max_length, truncating=trunc_type)\n",
    "    tfidf_sequence = tfidf.transform([' '.join([str(word) for word in sequence[0]])])\n",
    "    tfidf_sequence_dense = tfidf_sequence.toarray()\n",
    "    tfidf_sequence_3d = tfidf_sequence_dense.reshape((1, 1, tfidf_sequence_dense.shape[1]))\n",
    "    prediction = model.predict(tfidf_sequence_3d)\n",
    "    max_index = np.argmax(prediction[0])\n",
    "    predicted_label = mlb.classes_[max_index]\n",
    "    return predicted_label\n"
   ]
  },
  {
   "cell_type": "code",
   "execution_count": 13,
   "id": "50bf3e19",
   "metadata": {},
   "outputs": [
    {
     "name": "stdout",
     "output_type": "stream",
     "text": [
      "1/1 [==============================] - 0s 32ms/step\n"
     ]
    },
    {
     "data": {
      "text/plain": [
       "'anger'"
      ]
     },
     "execution_count": 13,
     "metadata": {},
     "output_type": "execute_result"
    }
   ],
   "source": [
    "predict_emotion(\"Ka lom Loh\")"
   ]
  },
  {
   "cell_type": "code",
   "execution_count": null,
   "id": "3e1f153a",
   "metadata": {},
   "outputs": [],
   "source": []
  }
 ],
 "metadata": {
  "kernelspec": {
   "display_name": "Python 3 (ipykernel)",
   "language": "python",
   "name": "python3"
  },
  "language_info": {
   "codemirror_mode": {
    "name": "ipython",
    "version": 3
   },
   "file_extension": ".py",
   "mimetype": "text/x-python",
   "name": "python",
   "nbconvert_exporter": "python",
   "pygments_lexer": "ipython3",
   "version": "3.9.13"
  }
 },
 "nbformat": 4,
 "nbformat_minor": 5
}
