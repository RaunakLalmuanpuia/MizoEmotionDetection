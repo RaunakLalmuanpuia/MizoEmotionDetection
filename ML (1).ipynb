{
 "cells": [
  {
   "cell_type": "code",
   "execution_count": 1,
   "id": "e5c01c0c",
   "metadata": {},
   "outputs": [],
   "source": [
    "import pandas as pd\n",
    "import numpy as np\n",
    "import re\n",
    "import string\n",
    "from tensorflow.keras.preprocessing.text import Tokenizer\n",
    "from tensorflow.keras.preprocessing.sequence import pad_sequences\n",
    "from sklearn.model_selection import train_test_split\n",
    "from sklearn.model_selection import RandomizedSearchCV, GridSearchCV\n",
    "\n",
    "\n",
    "from sklearn.metrics import accuracy_score\n",
    "from sklearn.metrics import confusion_matrix, classification_report\n",
    "from sklearn.metrics import precision_score, recall_score, f1_score\n",
    "from sklearn.metrics import plot_roc_curve, plot_confusion_matrix\n",
    "\n",
    "# Vectorizer convert text to vector \n",
    "from sklearn.feature_extraction.text import CountVectorizer, TfidfVectorizer\n",
    "\n",
    "\n",
    "from sklearn.linear_model import LogisticRegression # Logistic Regression\n",
    "from sklearn.naive_bayes import MultinomialNB # Naive Bayes (Multinomial)\n",
    "from sklearn.svm import SVC # Support Vector Machine\n",
    "from sklearn.tree import DecisionTreeClassifier # Decision Tree\n",
    "from sklearn.ensemble import RandomForestClassifier # Random Forest\n"
   ]
  },
  {
   "cell_type": "code",
   "execution_count": 33,
   "id": "db6f29ba",
   "metadata": {},
   "outputs": [
    {
     "data": {
      "text/html": [
       "<div>\n",
       "<style scoped>\n",
       "    .dataframe tbody tr th:only-of-type {\n",
       "        vertical-align: middle;\n",
       "    }\n",
       "\n",
       "    .dataframe tbody tr th {\n",
       "        vertical-align: top;\n",
       "    }\n",
       "\n",
       "    .dataframe thead th {\n",
       "        text-align: right;\n",
       "    }\n",
       "</style>\n",
       "<table border=\"1\" class=\"dataframe\">\n",
       "  <thead>\n",
       "    <tr style=\"text-align: right;\">\n",
       "      <th></th>\n",
       "      <th>Emotion</th>\n",
       "      <th>Text</th>\n",
       "    </tr>\n",
       "  </thead>\n",
       "  <tbody>\n",
       "    <tr>\n",
       "      <th>0</th>\n",
       "      <td>neutral</td>\n",
       "      <td>@dannycastillo Houston ticket neitu nen kan in...</td>\n",
       "    </tr>\n",
       "    <tr>\n",
       "      <th>1</th>\n",
       "      <td>neutral</td>\n",
       "      <td>cant fall muhil thei lo</td>\n",
       "    </tr>\n",
       "    <tr>\n",
       "      <th>2</th>\n",
       "      <td>neutral</td>\n",
       "      <td>Balisage Markup Conference 2009 Program-a No T...</td>\n",
       "    </tr>\n",
       "    <tr>\n",
       "      <th>3</th>\n",
       "      <td>neutral</td>\n",
       "      <td>@cynthia_123 i muhil thei lo</td>\n",
       "    </tr>\n",
       "    <tr>\n",
       "      <th>4</th>\n",
       "      <td>neutral</td>\n",
       "      <td>Bus bl***y chu ka miss ta!!!!!!!!</td>\n",
       "    </tr>\n",
       "  </tbody>\n",
       "</table>\n",
       "</div>"
      ],
      "text/plain": [
       "   Emotion                                               Text\n",
       "0  neutral  @dannycastillo Houston ticket neitu nen kan in...\n",
       "1  neutral                            cant fall muhil thei lo\n",
       "2  neutral  Balisage Markup Conference 2009 Program-a No T...\n",
       "3  neutral                       @cynthia_123 i muhil thei lo\n",
       "4  neutral                  Bus bl***y chu ka miss ta!!!!!!!!"
      ]
     },
     "execution_count": 33,
     "metadata": {},
     "output_type": "execute_result"
    }
   ],
   "source": [
    "# import dataset\n",
    "df = pd.read_csv(\"dataset.csv\")\n",
    "df.head()"
   ]
  },
  {
   "cell_type": "code",
   "execution_count": 34,
   "id": "16403fa2",
   "metadata": {},
   "outputs": [],
   "source": [
    "#shuffle the dataset\n",
    "df = df.sample(frac = 1)"
   ]
  },
  {
   "cell_type": "code",
   "execution_count": 35,
   "id": "22c0509a",
   "metadata": {},
   "outputs": [],
   "source": [
    "# text processing function \n",
    "def clean_text(text):\n",
    "    # to lower case\n",
    "    text = text.lower()\n",
    "    # remove links\n",
    "    text = re.sub('https:\\/\\/\\S+', '', text) \n",
    "    # remove punctuation\n",
    "    text = re.sub('[%s]' % re.escape(string.punctuation), '', text) \n",
    "    # remove next line     \n",
    "    text = re.sub(r'[^ \\w\\.]', '', text) \n",
    "    # remove words containing numbers\n",
    "    text = re.sub('\\w*\\d\\w*', '', text)\n",
    "    \n",
    "    return text\n",
    "# Create a new column called \"Text\" for collecting clean text\n",
    "df['Text'] = df.Text.apply(lambda x: clean_text(x))"
   ]
  },
  {
   "cell_type": "code",
   "execution_count": 36,
   "id": "eed1869a",
   "metadata": {},
   "outputs": [],
   "source": [
    "# Stop word in  mizo language\n",
    "stop_words  = \"a, i si a min em  le tak te e in he u tih ka va keimah keini kan keimahni nangmah nangma nangmahni ngei pawh ani amah a ta chu ni chumi anni an engnge khawi tunge hei sawmi hengte hi tawh nei ti mek leh mahse chuan emaw avang angin hma laiin tan hmunah tu nen lam kalh karah chhungah tlang hmaah hnuah chungah hnuai ah atangin chunglam hnuailam chhung pawn titawp hla zawk tichuan vawikhat hetah sawtah engtikah khawnge engati nge engtin zavai engpawh pahnihin vek tlem belh ber thildang engemawzat chutiang aih ve chauh inang chuvangin aiin lutuk thei duhdan chiah don tur tunah\"\n",
    "\n",
    "# Convert to lower case\n",
    "stop_words = stop_words.lower()\n",
    "\n",
    "# convert string to list\n",
    "def Convert(string):\n",
    "    li = list(string.split(\" \"))\n",
    "    return li\n",
    "\n",
    "\n",
    "stop_word_list = Convert(stop_words)\n",
    "\n",
    "# Remove stop words\n",
    "df['Text'] = df['Text'].apply(lambda x: ' '.join([word for word in x.split() if word not in (stop_word_list)]))"
   ]
  },
  {
   "cell_type": "code",
   "execution_count": 37,
   "id": "ad88dbcc",
   "metadata": {},
   "outputs": [
    {
     "name": "stderr",
     "output_type": "stream",
     "text": [
      "C:\\Users\\Raunak\\anaconda3\\lib\\site-packages\\sklearn\\linear_model\\_logistic.py:814: ConvergenceWarning: lbfgs failed to converge (status=1):\n",
      "STOP: TOTAL NO. of ITERATIONS REACHED LIMIT.\n",
      "\n",
      "Increase the number of iterations (max_iter) or scale the data as shown in:\n",
      "    https://scikit-learn.org/stable/modules/preprocessing.html\n",
      "Please also refer to the documentation for alternative solver options:\n",
      "    https://scikit-learn.org/stable/modules/linear_model.html#logistic-regression\n",
      "  n_iter_i = _check_optimize_result(\n"
     ]
    },
    {
     "name": "stdout",
     "output_type": "stream",
     "text": [
      "{'Logistic Regression': 0.35932914046121595, 'Decision Tree': 0.28259958071278823, 'SVM': 0.35429769392033544, 'RF': 0.39664570230607965}\n"
     ]
    }
   ],
   "source": [
    "import numpy as np\n",
    "import gensim\n",
    "import nltk\n",
    "from sklearn.model_selection import train_test_split\n",
    "from sklearn.feature_extraction.text import TfidfVectorizer\n",
    "from sklearn.naive_bayes import MultinomialNB\n",
    "from sklearn.linear_model import LogisticRegression\n",
    "from sklearn.tree import DecisionTreeClassifier\n",
    "from sklearn.svm import SVC\n",
    "from sklearn.ensemble import RandomForestClassifier\n",
    "from sklearn.metrics import accuracy_score\n",
    "\n",
    "# Load the trained Word2Vec model\n",
    "model = gensim.models.Word2Vec.load(\"Word2VecModel.model\")\n",
    "\n",
    "# Get the vocabulary and corresponding word vectors\n",
    "word_vectors = model.wv.vectors\n",
    "\n",
    "# Tokenize the text data\n",
    "tokenizer = nltk.tokenize.word_tokenize\n",
    "sentences = df[\"Text\"].tolist()\n",
    "tokenized_sentences = [tokenizer(sentence.lower()) for sentence in sentences]\n",
    "\n",
    "y = df[\"Emotion\"]\n",
    "# Get the average vector for all words in each sentence that are present in the vocabulary\n",
    "feature_vectors = []\n",
    "for sentence in tokenized_sentences:\n",
    "    vector_sum = 0\n",
    "    count = 0\n",
    "    for word in sentence:\n",
    "        if word in model.wv.key_to_index:\n",
    "            vector_sum += word_vectors[model.wv.key_to_index[word]]\n",
    "            count += 1\n",
    "    if count != 0:\n",
    "        feature_vectors.append(vector_sum / count)\n",
    "    else:\n",
    "        feature_vectors.append([0] * model.vector_size)\n",
    "\n",
    "# Split the data into training and testing sets\n",
    "X_train, X_test, y_train, y_test = train_test_split(feature_vectors, y, test_size=0.2)\n",
    "\n",
    "# Put models in a dictionary\n",
    "models = {\"Logistic Regression\": LogisticRegression(), \n",
    "          \"Decision Tree\": DecisionTreeClassifier(),\n",
    "          \"SVM\": SVC(),\n",
    "          \"RF\": RandomForestClassifier()}\n",
    "\n",
    "# Create function to fit and score models\n",
    "def fit_and_score(models, X_train, X_test, y_train, y_test):\n",
    "    \"\"\"\n",
    "    Fits and evaluates given machine learning models.\n",
    "    models : a dict of different Scikit-Learn machine learning models\n",
    "    X_train : training data\n",
    "    X_test : testing data\n",
    "    y_train : labels associated with training data\n",
    "    y_test : labels associated with test data\n",
    "    \"\"\"\n",
    "    # Random seed for reproducible results\n",
    "    np.random.seed(42)\n",
    "    # Make a list to keep model scores\n",
    "    model_scores = {}\n",
    "    # Loop through models\n",
    "    for name, model in models.items():\n",
    "        # Fit the model to the data\n",
    "        model.fit(X_train, y_train)\n",
    "        # Evaluate the model and append its score to model_scores\n",
    "        model_scores[name] = model.score(X_test, y_test)\n",
    "    return model_scores\n",
    "\n",
    "# Call the fit_and_score function to obtain model scores\n",
    "model_compare_Word2vec = fit_and_score(models=models,\n",
    "                                X_train=X_train,\n",
    "                                X_test=X_test,\n",
    "                                y_train=y_train,\n",
    "                                y_test=y_test)\n",
    "print(model_compare_Word2vec) # print the model scores\n"
   ]
  },
  {
   "cell_type": "code",
   "execution_count": 38,
   "id": "90da3329",
   "metadata": {},
   "outputs": [
    {
     "data": {
      "image/png": "[encoded data removed]",
      "text/plain": [
       "<Figure size 640x480 with 1 Axes>"
      ]
     },
     "metadata": {},
     "output_type": "display_data"
    }
   ],
   "source": [
    "model_compare_Word2vec = pd.DataFrame(model_compare_Word2vec, index=['accuracy'])\n",
    "model_compare_Word2vec.T.plot.bar();"
   ]
  },
  {
   "cell_type": "code",
   "execution_count": 39,
   "id": "df597a5f",
   "metadata": {},
   "outputs": [],
   "source": [
    "# Independent variables (no target column)\n",
    "Xfeatures = df[\"Text\"]\n",
    "# Targets\n",
    "ylabels = df[\"Emotion\"]"
   ]
  },
  {
   "cell_type": "code",
   "execution_count": 17,
   "id": "6fce2d52",
   "metadata": {},
   "outputs": [
    {
     "data": {
      "text/plain": [
       "pandas.core.series.Series"
      ]
     },
     "execution_count": 17,
     "metadata": {},
     "output_type": "execute_result"
    }
   ],
   "source": [
    "type(Xfeatures)"
   ]
  },
  {
   "cell_type": "code",
   "execution_count": 40,
   "id": "c76a5b3e",
   "metadata": {},
   "outputs": [],
   "source": [
    "# Step 2: Tokenization using TensorFlow Tokenizer\n",
    "tokenizer = Tokenizer()\n",
    "tokenizer.fit_on_texts(Xfeatures)\n",
    "tokenized_text_data = tokenizer.texts_to_sequences(Xfeatures)"
   ]
  },
  {
   "cell_type": "code",
   "execution_count": 42,
   "id": "3450d88d",
   "metadata": {},
   "outputs": [],
   "source": [
    "# Transform text to bag of words model \n",
    "cv = CountVectorizer(tokenizer=lambda x: tokenizer.sequences_to_texts([x])[0], lowercase=False)\n",
    "X_cv = cv.fit_transform(tokenized_text_data)"
   ]
  },
  {
   "cell_type": "code",
   "execution_count": 47,
   "id": "13c5e5bb",
   "metadata": {},
   "outputs": [],
   "source": [
    "tf = TfidfVectorizer(tokenizer=lambda x: tokenizer.sequences_to_texts([x])[0], lowercase=False)\n",
    "X_tf = tf.fit_transform(tokenized_text_data)"
   ]
  },
  {
   "cell_type": "code",
   "execution_count": 48,
   "id": "fc51b77a",
   "metadata": {},
   "outputs": [],
   "source": [
    "# Split into train & test set\n",
    "X_train_cv, X_text_cv, y_train_cv, y_test_cv = train_test_split(X_cv, ylabels, test_size=0.2, random_state = 42)\n",
    "X_train_tf, X_text_tf, y_train_tf, y_test_tf = train_test_split(X_tf, ylabels, test_size=0.2, random_state = 42)"
   ]
  },
  {
   "cell_type": "code",
   "execution_count": 44,
   "id": "971acd8f",
   "metadata": {},
   "outputs": [],
   "source": [
    "# Put models in a dictionary\n",
    "models = {\"MNB\": MultinomialNB(),\n",
    "          \"Logistic Regression\": LogisticRegression(), \n",
    "          \"Decesion Tree\": DecisionTreeClassifier(),\n",
    "            \"SVM\": SVC(),\n",
    "             \"RF\": RandomForestClassifier()}\n",
    "\n",
    "# Create function to fit and score models\n",
    "def fit_and_score(models, X_train, X_test, y_train, y_test):\n",
    "    \"\"\"\n",
    "    Fits and evaluates given machine learning models.\n",
    "    models : a dict of different Scikit-Learn machine learning models\n",
    "    X_train : training data\n",
    "    X_test : testing data\n",
    "    y_train : labels assosciated with training data\n",
    "    y_test : labels assosciated with test data\n",
    "    \"\"\"\n",
    "    # Random seed for reproducible results\n",
    "    np.random.seed(42)\n",
    "    # Make a list to keep model scores\n",
    "    model_scores = {}\n",
    "    # Loop through models\n",
    "    for name, model in models.items():\n",
    "        # Fit the model to the data\n",
    "        model.fit(X_train, y_train)\n",
    "        # Evaluate the model and append its score to model_scores\n",
    "        model_scores[name] = model.score(X_test, y_test)\n",
    "    return model_scores"
   ]
  },
  {
   "cell_type": "code",
   "execution_count": 45,
   "id": "4346d89c",
   "metadata": {},
   "outputs": [
    {
     "name": "stderr",
     "output_type": "stream",
     "text": [
      "C:\\Users\\Raunak\\anaconda3\\lib\\site-packages\\sklearn\\linear_model\\_logistic.py:814: ConvergenceWarning: lbfgs failed to converge (status=1):\n",
      "STOP: TOTAL NO. of ITERATIONS REACHED LIMIT.\n",
      "\n",
      "Increase the number of iterations (max_iter) or scale the data as shown in:\n",
      "    https://scikit-learn.org/stable/modules/preprocessing.html\n",
      "Please also refer to the documentation for alternative solver options:\n",
      "    https://scikit-learn.org/stable/modules/linear_model.html#logistic-regression\n",
      "  n_iter_i = _check_optimize_result(\n"
     ]
    },
    {
     "data": {
      "text/plain": [
       "{'MNB': 0.36058700209643607,\n",
       " 'Logistic Regression': 0.3937106918238994,\n",
       " 'Decesion Tree': 0.32243186582809225,\n",
       " 'SVM': 0.4092243186582809,\n",
       " 'RF': 0.4360587002096436}"
      ]
     },
     "execution_count": 45,
     "metadata": {},
     "output_type": "execute_result"
    }
   ],
   "source": [
    "model_scores_cv = fit_and_score(models=models,\n",
    "                             X_train=X_train_cv,\n",
    "                             X_test=X_text_cv,\n",
    "                             y_train=y_train_cv,\n",
    "                             y_test=y_test_cv)\n",
    "model_scores_cv"
   ]
  },
  {
   "cell_type": "code",
   "execution_count": 49,
   "id": "d7dd18fb",
   "metadata": {},
   "outputs": [
    {
     "name": "stderr",
     "output_type": "stream",
     "text": [
      "C:\\Users\\Raunak\\anaconda3\\lib\\site-packages\\sklearn\\linear_model\\_logistic.py:814: ConvergenceWarning: lbfgs failed to converge (status=1):\n",
      "STOP: TOTAL NO. of ITERATIONS REACHED LIMIT.\n",
      "\n",
      "Increase the number of iterations (max_iter) or scale the data as shown in:\n",
      "    https://scikit-learn.org/stable/modules/preprocessing.html\n",
      "Please also refer to the documentation for alternative solver options:\n",
      "    https://scikit-learn.org/stable/modules/linear_model.html#logistic-regression\n",
      "  n_iter_i = _check_optimize_result(\n"
     ]
    },
    {
     "data": {
      "text/plain": [
       "{'MNB': 0.3584905660377358,\n",
       " 'Logistic Regression': 0.4176100628930818,\n",
       " 'Decesion Tree': 0.3316561844863732,\n",
       " 'SVM': 0.44863731656184486,\n",
       " 'RF': 0.4410901467505241}"
      ]
     },
     "execution_count": 49,
     "metadata": {},
     "output_type": "execute_result"
    }
   ],
   "source": [
    "model_scores_tf = fit_and_score(models=models,\n",
    "                             X_train=X_train_tf,\n",
    "                             X_test=X_text_tf,\n",
    "                             y_train=y_train_tf,\n",
    "                             y_test=y_test_tf)\n",
    "model_scores_tf"
   ]
  },
  {
   "cell_type": "code",
   "execution_count": 50,
   "id": "3ace4c38",
   "metadata": {},
   "outputs": [
    {
     "data": {
      "image/png": "[encoded data removed]",
      "text/plain": [
       "<Figure size 640x480 with 1 Axes>"
      ]
     },
     "metadata": {},
     "output_type": "display_data"
    }
   ],
   "source": [
    "model_compare_cv = pd.DataFrame(model_scores_cv, index=['accuracy'])\n",
    "model_compare_cv.T.plot.bar();"
   ]
  },
  {
   "cell_type": "code",
   "execution_count": 51,
   "id": "f3a98a0d",
   "metadata": {},
   "outputs": [
    {
     "data": {
      "image/png": "[encoded data removed]",
      "text/plain": [
       "<Figure size 640x480 with 1 Axes>"
      ]
     },
     "metadata": {},
     "output_type": "display_data"
    }
   ],
   "source": [
    "model_compare_tf = pd.DataFrame(model_scores_tf, index=['accuracy'])\n",
    "model_compare_tf.T.plot.bar();"
   ]
  },
  {
   "cell_type": "code",
   "execution_count": null,
   "id": "1aa3f575",
   "metadata": {},
   "outputs": [],
   "source": []
  }
 ],
 "metadata": {
  "kernelspec": {
   "display_name": "Python 3 (ipykernel)",
   "language": "python",
   "name": "python3"
  },
  "language_info": {
   "codemirror_mode": {
    "name": "ipython",
    "version": 3
   },
   "file_extension": ".py",
   "mimetype": "text/x-python",
   "name": "python",
   "nbconvert_exporter": "python",
   "pygments_lexer": "ipython3",
   "version": "3.9.13"
  }
 },
 "nbformat": 4,
 "nbformat_minor": 5
}
