{
 "cells": [
  {
   "cell_type": "code",
   "execution_count": 1,
   "metadata": {
    "executionInfo": {
     "elapsed": 4029,
     "status": "ok",
     "timestamp": 1678903527703,
     "user": {
      "displayName": "Raunak Lalmuanpuia B.Tech",
      "userId": "15884474661511167181"
     },
     "user_tz": -330
    },
    "id": "FLeD5FBVOXvD"
   },
   "outputs": [],
   "source": [
    "import pandas as pd\n",
    "import numpy as np\n",
    "import matplotlib.pyplot as plt\n",
    "import seaborn as sns"
   ]
  },
  {
   "cell_type": "code",
   "execution_count": 2,
   "metadata": {
    "executionInfo": {
     "elapsed": 758,
     "status": "ok",
     "timestamp": 1678903600107,
     "user": {
      "displayName": "Raunak Lalmuanpuia B.Tech",
      "userId": "15884474661511167181"
     },
     "user_tz": -330
    },
    "id": "bMuRENFePYMi"
   },
   "outputs": [],
   "source": [
    "# import dataset\n",
    "df = pd.read_csv(\"./merged6500_uniques.csv\")"
   ]
  },
  {
   "cell_type": "code",
   "execution_count": 3,
   "metadata": {
    "colab": {
     "base_uri": "https://localhost:8080/",
     "height": 204
    },
    "executionInfo": {
     "elapsed": 4,
     "status": "ok",
     "timestamp": 1678903602036,
     "user": {
      "displayName": "Raunak Lalmuanpuia B.Tech",
      "userId": "15884474661511167181"
     },
     "user_tz": -330
    },
    "id": "wca-_rxKPcDO",
    "outputId": "60b53fcb-a54b-41e5-8e1a-95594591d3bb"
   },
   "outputs": [
    {
     "data": {
      "text/html": [
       "\n",
       "  <div id=\"df-1d5d6da9-d30a-461f-b290-140d751ebbfc\">\n",
       "    <div class=\"colab-df-container\">\n",
       "      <div>\n",
       "<style scoped>\n",
       "    .dataframe tbody tr th:only-of-type {\n",
       "        vertical-align: middle;\n",
       "    }\n",
       "\n",
       "    .dataframe tbody tr th {\n",
       "        vertical-align: top;\n",
       "    }\n",
       "\n",
       "    .dataframe thead th {\n",
       "        text-align: right;\n",
       "    }\n",
       "</style>\n",
       "<table border=\"1\" class=\"dataframe\">\n",
       "  <thead>\n",
       "    <tr style=\"text-align: right;\">\n",
       "      <th></th>\n",
       "      <th>Text</th>\n",
       "      <th>Emotion</th>\n",
       "    </tr>\n",
       "  </thead>\n",
       "  <tbody>\n",
       "    <tr>\n",
       "      <th>0</th>\n",
       "      <td>tinge ?</td>\n",
       "      <td>neutral</td>\n",
       "    </tr>\n",
       "    <tr>\n",
       "      <th>1</th>\n",
       "      <td>naktuk ka piancham ka va nghakhlel tak</td>\n",
       "      <td>joy</td>\n",
       "    </tr>\n",
       "    <tr>\n",
       "      <th>2</th>\n",
       "      <td>ka thiannu ka va ral dawn mek ka va han lungga...</td>\n",
       "      <td>sadness</td>\n",
       "    </tr>\n",
       "    <tr>\n",
       "      <th>3</th>\n",
       "      <td>it mitmeng chu ava mai tak em</td>\n",
       "      <td>joy</td>\n",
       "    </tr>\n",
       "    <tr>\n",
       "      <th>4</th>\n",
       "      <td>phone call pawimawh deuh ka nghak mek ka va ha...</td>\n",
       "      <td>fear</td>\n",
       "    </tr>\n",
       "  </tbody>\n",
       "</table>\n",
       "</div>\n",
       "      <button class=\"colab-df-convert\" onclick=\"convertToInteractive('df-1d5d6da9-d30a-461f-b290-140d751ebbfc')\"\n",
       "              title=\"Convert this dataframe to an interactive table.\"\n",
       "              style=\"display:none;\">\n",
       "        \n",
       "  <svg xmlns=\"http://www.w3.org/2000/svg\" height=\"24px\"viewBox=\"0 0 24 24\"\n",
       "       width=\"24px\">\n",
       "    <path d=\"M0 0h24v24H0V0z\" fill=\"none\"/>\n",
       "    <path d=\"M18.56 5.44l.94 2.06.94-2.06 2.06-.94-2.06-.94-.94-2.06-.94 2.06-2.06.94zm-11 1L8.5 8.5l.94-2.06 2.06-.94-2.06-.94L8.5 2.5l-.94 2.06-2.06.94zm10 10l.94 2.06.94-2.06 2.06-.94-2.06-.94-.94-2.06-.94 2.06-2.06.94z\"/><path d=\"M17.41 7.96l-1.37-1.37c-.4-.4-.92-.59-1.43-.59-.52 0-1.04.2-1.43.59L10.3 9.45l-7.72 7.72c-.78.78-.78 2.05 0 2.83L4 21.41c.39.39.9.59 1.41.59.51 0 1.02-.2 1.41-.59l7.78-7.78 2.81-2.81c.8-.78.8-2.07 0-2.86zM5.41 20L4 18.59l7.72-7.72 1.47 1.35L5.41 20z\"/>\n",
       "  </svg>\n",
       "      </button>\n",
       "      \n",
       "  <style>\n",
       "    .colab-df-container {\n",
       "      display:flex;\n",
       "      flex-wrap:wrap;\n",
       "      gap: 12px;\n",
       "    }\n",
       "\n",
       "    .colab-df-convert {\n",
       "      background-color: #E8F0FE;\n",
       "      border: none;\n",
       "      border-radius: 50%;\n",
       "      cursor: pointer;\n",
       "      display: none;\n",
       "      fill: #1967D2;\n",
       "      height: 32px;\n",
       "      padding: 0 0 0 0;\n",
       "      width: 32px;\n",
       "    }\n",
       "\n",
       "    .colab-df-convert:hover {\n",
       "      background-color: #E2EBFA;\n",
       "      box-shadow: 0px 1px 2px rgba(60, 64, 67, 0.3), 0px 1px 3px 1px rgba(60, 64, 67, 0.15);\n",
       "      fill: #174EA6;\n",
       "    }\n",
       "\n",
       "    [theme=dark] .colab-df-convert {\n",
       "      background-color: #3B4455;\n",
       "      fill: #D2E3FC;\n",
       "    }\n",
       "\n",
       "    [theme=dark] .colab-df-convert:hover {\n",
       "      background-color: #434B5C;\n",
       "      box-shadow: 0px 1px 3px 1px rgba(0, 0, 0, 0.15);\n",
       "      filter: drop-shadow(0px 1px 2px rgba(0, 0, 0, 0.3));\n",
       "      fill: #FFFFFF;\n",
       "    }\n",
       "  </style>\n",
       "\n",
       "      <script>\n",
       "        const buttonEl =\n",
       "          document.querySelector('#df-1d5d6da9-d30a-461f-b290-140d751ebbfc button.colab-df-convert');\n",
       "        buttonEl.style.display =\n",
       "          google.colab.kernel.accessAllowed ? 'block' : 'none';\n",
       "\n",
       "        async function convertToInteractive(key) {\n",
       "          const element = document.querySelector('#df-1d5d6da9-d30a-461f-b290-140d751ebbfc');\n",
       "          const dataTable =\n",
       "            await google.colab.kernel.invokeFunction('convertToInteractive',\n",
       "                                                     [key], {});\n",
       "          if (!dataTable) return;\n",
       "\n",
       "          const docLinkHtml = 'Like what you see? Visit the ' +\n",
       "            '<a target=\"_blank\" href=https://colab.research.google.com/notebooks/data_table.ipynb>data table notebook</a>'\n",
       "            + ' to learn more about interactive tables.';\n",
       "          element.innerHTML = '';\n",
       "          dataTable['output_type'] = 'display_data';\n",
       "          await google.colab.output.renderOutput(dataTable, element);\n",
       "          const docLink = document.createElement('div');\n",
       "          docLink.innerHTML = docLinkHtml;\n",
       "          element.appendChild(docLink);\n",
       "        }\n",
       "      </script>\n",
       "    </div>\n",
       "  </div>\n",
       "  "
      ],
      "text/plain": [
       "                                                Text  Emotion\n",
       "0                                            tinge ?  neutral\n",
       "1             naktuk ka piancham ka va nghakhlel tak      joy\n",
       "2  ka thiannu ka va ral dawn mek ka va han lungga...  sadness\n",
       "3                      it mitmeng chu ava mai tak em      joy\n",
       "4  phone call pawimawh deuh ka nghak mek ka va ha...     fear"
      ]
     },
     "execution_count": 3,
     "metadata": {},
     "output_type": "execute_result"
    }
   ],
   "source": [
    "df.head()"
   ]
  },
  {
   "cell_type": "code",
   "execution_count": 4,
   "metadata": {
    "colab": {
     "base_uri": "https://localhost:8080/"
    },
    "executionInfo": {
     "elapsed": 8,
     "status": "ok",
     "timestamp": 1678903605852,
     "user": {
      "displayName": "Raunak Lalmuanpuia B.Tech",
      "userId": "15884474661511167181"
     },
     "user_tz": -330
    },
    "id": "5d17SHhQPigY",
    "outputId": "59240c62-3f7f-4b58-e92a-5eb6bb9158da"
   },
   "outputs": [
    {
     "data": {
      "text/plain": [
       "(10987, 2)"
      ]
     },
     "execution_count": 4,
     "metadata": {},
     "output_type": "execute_result"
    }
   ],
   "source": [
    "# (rows, columns)\n",
    "df.shape"
   ]
  },
  {
   "cell_type": "code",
   "execution_count": 5,
   "metadata": {
    "colab": {
     "base_uri": "https://localhost:8080/"
    },
    "executionInfo": {
     "elapsed": 6,
     "status": "ok",
     "timestamp": 1678903607650,
     "user": {
      "displayName": "Raunak Lalmuanpuia B.Tech",
      "userId": "15884474661511167181"
     },
     "user_tz": -330
    },
    "id": "Ftk3gxnoPmUc",
    "outputId": "a6ccb07f-c8a0-424e-c75c-21a29f90f351"
   },
   "outputs": [
    {
     "data": {
      "text/plain": [
       "joy         3690\n",
       "sadness     2848\n",
       "fear        1748\n",
       "anger       1531\n",
       "love         527\n",
       "neutral      378\n",
       "surprise     265\n",
       "Name: Emotion, dtype: int64"
      ]
     },
     "execution_count": 5,
     "metadata": {},
     "output_type": "execute_result"
    }
   ],
   "source": [
    "df.Emotion.value_counts()"
   ]
  },
  {
   "cell_type": "code",
   "execution_count": 6,
   "metadata": {
    "colab": {
     "base_uri": "https://localhost:8080/"
    },
    "executionInfo": {
     "elapsed": 7,
     "status": "ok",
     "timestamp": 1678903610210,
     "user": {
      "displayName": "Raunak Lalmuanpuia B.Tech",
      "userId": "15884474661511167181"
     },
     "user_tz": -330
    },
    "id": "KLHKtH-vPp2Y",
    "outputId": "08200f5a-8e4f-4594-ed87-91e28a478402"
   },
   "outputs": [
    {
     "name": "stdout",
     "output_type": "stream",
     "text": [
      "Index(['Text', 'Emotion'], dtype='object')\n"
     ]
    }
   ],
   "source": [
    "print(df.columns)"
   ]
  },
  {
   "cell_type": "code",
   "execution_count": 7,
   "metadata": {
    "executionInfo": {
     "elapsed": 558,
     "status": "ok",
     "timestamp": 1678903612869,
     "user": {
      "displayName": "Raunak Lalmuanpuia B.Tech",
      "userId": "15884474661511167181"
     },
     "user_tz": -330
    },
    "id": "hHSFw27SQ-AT"
   },
   "outputs": [],
   "source": [
    "# Replace the string 'love' with 'joy' in the 'Emotion' column\n",
    "df['Emotion'] = df['Emotion'].replace('love', 'joy')"
   ]
  },
  {
   "cell_type": "code",
   "execution_count": 8,
   "metadata": {
    "colab": {
     "base_uri": "https://localhost:8080/"
    },
    "executionInfo": {
     "elapsed": 478,
     "status": "ok",
     "timestamp": 1678903616429,
     "user": {
      "displayName": "Raunak Lalmuanpuia B.Tech",
      "userId": "15884474661511167181"
     },
     "user_tz": -330
    },
    "id": "UZIVO5cYRMJK",
    "outputId": "a3474fa2-c9d6-4b5b-f8fd-1f7bcb434f93"
   },
   "outputs": [
    {
     "data": {
      "text/plain": [
       "joy         4217\n",
       "sadness     2848\n",
       "fear        1748\n",
       "anger       1531\n",
       "neutral      378\n",
       "surprise     265\n",
       "Name: Emotion, dtype: int64"
      ]
     },
     "execution_count": 8,
     "metadata": {},
     "output_type": "execute_result"
    }
   ],
   "source": [
    "df.Emotion.value_counts()"
   ]
  },
  {
   "cell_type": "code",
   "execution_count": 9,
   "metadata": {
    "executionInfo": {
     "elapsed": 868,
     "status": "ok",
     "timestamp": 1678903631859,
     "user": {
      "displayName": "Raunak Lalmuanpuia B.Tech",
      "userId": "15884474661511167181"
     },
     "user_tz": -330
    },
    "id": "9NZAVKdDTOIE"
   },
   "outputs": [],
   "source": [
    "# delete all rows containing the word \"surprise\" in the \"Emotion\" column\n",
    "df = df[~df['Emotion'].str.contains('surprise')]"
   ]
  },
  {
   "cell_type": "code",
   "execution_count": 10,
   "metadata": {
    "colab": {
     "base_uri": "https://localhost:8080/"
    },
    "executionInfo": {
     "elapsed": 3,
     "status": "ok",
     "timestamp": 1678903634372,
     "user": {
      "displayName": "Raunak Lalmuanpuia B.Tech",
      "userId": "15884474661511167181"
     },
     "user_tz": -330
    },
    "id": "9GO6M1_yUYcE",
    "outputId": "47273834-e95c-436c-b299-1e1a47c3afa8"
   },
   "outputs": [
    {
     "data": {
      "text/plain": [
       "joy        4217\n",
       "sadness    2848\n",
       "fear       1748\n",
       "anger      1531\n",
       "neutral     378\n",
       "Name: Emotion, dtype: int64"
      ]
     },
     "execution_count": 10,
     "metadata": {},
     "output_type": "execute_result"
    }
   ],
   "source": [
    "df.Emotion.value_counts()"
   ]
  },
  {
   "cell_type": "code",
   "execution_count": null,
   "metadata": {
    "id": "_yPxJznKKLYH"
   },
   "outputs": [],
   "source": [
    "# save the data to new csv\n"
   ]
  },
  {
   "cell_type": "code",
   "execution_count": 11,
   "metadata": {
    "colab": {
     "base_uri": "https://localhost:8080/"
    },
    "executionInfo": {
     "elapsed": 515,
     "status": "ok",
     "timestamp": 1678903643178,
     "user": {
      "displayName": "Raunak Lalmuanpuia B.Tech",
      "userId": "15884474661511167181"
     },
     "user_tz": -330
    },
    "id": "KIhv_OfAUadi",
    "outputId": "39e6624d-193f-4690-f518-a2966a344d2a"
   },
   "outputs": [
    {
     "data": {
      "text/plain": [
       "(10722, 2)"
      ]
     },
     "execution_count": 11,
     "metadata": {},
     "output_type": "execute_result"
    }
   ],
   "source": [
    "df.shape"
   ]
  },
  {
   "cell_type": "code",
   "execution_count": null,
   "metadata": {
    "colab": {
     "base_uri": "https://localhost:8080/"
    },
    "executionInfo": {
     "elapsed": 7,
     "status": "ok",
     "timestamp": 1677966985508,
     "user": {
      "displayName": "Raunak Lalmuanpuia B.Tech",
      "userId": "15884474661511167181"
     },
     "user_tz": -330
    },
    "id": "eZN-PurvUd_o",
    "outputId": "8be8e9c9-53a0-4f87-8bf4-864eb6632d08"
   },
   "outputs": [
    {
     "name": "stderr",
     "output_type": "stream",
     "text": [
      "[nltk_data] Downloading package punkt to /root/nltk_data...\n",
      "[nltk_data]   Package punkt is already up-to-date!\n"
     ]
    },
    {
     "name": "stdout",
     "output_type": "stream",
     "text": [
      "Total number of sentences: 10730\n"
     ]
    }
   ],
   "source": [
    "# Find total number of sentences\n",
    "import nltk\n",
    "\n",
    "# download the punkt tokenizer if you haven't already done so\n",
    "nltk.download('punkt')\n",
    "\n",
    "# count the number of sentences in the \"Text\" column using the nltk.sent_tokenize() method\n",
    "num_sentences = sum(df['Text'].apply(lambda x: len(nltk.sent_tokenize(x))))\n",
    "\n",
    "# print the total number of sentences\n",
    "print(\"Total number of sentences:\", num_sentences)\n"
   ]
  },
  {
   "cell_type": "code",
   "execution_count": null,
   "metadata": {
    "id": "EP0tSBD4Wj2w"
   },
   "outputs": [],
   "source": []
  },
  {
   "cell_type": "code",
   "execution_count": null,
   "metadata": {
    "id": "WHl7ztXeW8vo"
   },
   "outputs": [],
   "source": [
    "# get the unique words in the \"Text\" column using the str.split() method and the set() function\n",
    "unique_words = set(df['Text'].str.split().sum())\n",
    "\n",
    "# count the number of unique words\n",
    "num_unique_words = len(unique_words)"
   ]
  },
  {
   "cell_type": "code",
   "execution_count": null,
   "metadata": {
    "colab": {
     "base_uri": "https://localhost:8080/"
    },
    "executionInfo": {
     "elapsed": 22,
     "status": "ok",
     "timestamp": 1677966991475,
     "user": {
      "displayName": "Raunak Lalmuanpuia B.Tech",
      "userId": "15884474661511167181"
     },
     "user_tz": -330
    },
    "id": "rI0bmtS-XX_W",
    "outputId": "b8967fee-4932-4e72-ea82-07878887725c"
   },
   "outputs": [
    {
     "name": "stdout",
     "output_type": "stream",
     "text": [
      "Total number of unique words: 11408\n"
     ]
    }
   ],
   "source": [
    "# print the total number of unique words\n",
    "print(\"Total number of unique words:\", num_unique_words)"
   ]
  },
  {
   "cell_type": "code",
   "execution_count": null,
   "metadata": {
    "colab": {
     "base_uri": "https://localhost:8080/"
    },
    "executionInfo": {
     "elapsed": 19,
     "status": "ok",
     "timestamp": 1677966991476,
     "user": {
      "displayName": "Raunak Lalmuanpuia B.Tech",
      "userId": "15884474661511167181"
     },
     "user_tz": -330
    },
    "id": "Kmn30TxHXdrV",
    "outputId": "d9e72cac-477a-43f2-e978-e19e3d9bd6fe"
   },
   "outputs": [
    {
     "name": "stdout",
     "output_type": "stream",
     "text": [
      "Average word count: 15.440309643723186\n"
     ]
    }
   ],
   "source": [
    "# calculate the word count for each text in the \"Text\" column using the str.split() method and the len() function\n",
    "word_counts = df['Text'].str.split().apply(len)\n",
    "\n",
    "# calculate the average word count using the mean() function\n",
    "avg_word_count = word_counts.mean()\n",
    "\n",
    "# print the average word count\n",
    "print(\"Average word count:\", avg_word_count)"
   ]
  },
  {
   "cell_type": "code",
   "execution_count": null,
   "metadata": {
    "colab": {
     "base_uri": "https://localhost:8080/"
    },
    "executionInfo": {
     "elapsed": 11,
     "status": "ok",
     "timestamp": 1677966991476,
     "user": {
      "displayName": "Raunak Lalmuanpuia B.Tech",
      "userId": "15884474661511167181"
     },
     "user_tz": -330
    },
    "id": "nhKd-5z7XzCj",
    "outputId": "ef8ff43b-47d1-40b9-e5ff-c875c10d100e"
   },
   "outputs": [
    {
     "name": "stdout",
     "output_type": "stream",
     "text": [
      "Maximum word count: 102\n"
     ]
    }
   ],
   "source": [
    "# find the maximum word \n",
    "# calculate the word count for each text in the \"Text\" column using the str.split() method and the len() function\n",
    "word_counts = df['Text'].str.split().apply(len)\n",
    "\n",
    "# find the maximum word count using the max() function\n",
    "max_word_count = word_counts.max()\n",
    "\n",
    "# print the maximum word count\n",
    "print(\"Maximum word count:\", max_word_count)"
   ]
  },
  {
   "cell_type": "code",
   "execution_count": null,
   "metadata": {
    "colab": {
     "base_uri": "https://localhost:8080/"
    },
    "executionInfo": {
     "elapsed": 1581,
     "status": "ok",
     "timestamp": 1677966993052,
     "user": {
      "displayName": "Raunak Lalmuanpuia B.Tech",
      "userId": "15884474661511167181"
     },
     "user_tz": -330
    },
    "id": "5uqQdmNWgWHE",
    "outputId": "2639533d-f367-4519-b90e-e35d5f5d0a24"
   },
   "outputs": [
    {
     "name": "stdout",
     "output_type": "stream",
     "text": [
      "Maximum token count: 109\n"
     ]
    }
   ],
   "source": [
    "# create a function to tokenize the text and count the number of tokens\n",
    "def count_tokens(text):\n",
    "    tokens = nltk.word_tokenize(text)\n",
    "    return len(tokens)\n",
    "\n",
    "# apply the function to the \"Text\" column to get the maximum token count\n",
    "max_token_count = df['Text'].apply(count_tokens).max()\n",
    "\n",
    "# print the maximum token count\n",
    "print(\"Maximum token count:\", max_token_count)"
   ]
  },
  {
   "cell_type": "code",
   "execution_count": null,
   "metadata": {
    "colab": {
     "base_uri": "https://localhost:8080/"
    },
    "executionInfo": {
     "elapsed": 2559,
     "status": "ok",
     "timestamp": 1677966995608,
     "user": {
      "displayName": "Raunak Lalmuanpuia B.Tech",
      "userId": "15884474661511167181"
     },
     "user_tz": -330
    },
    "id": "uVU8XSkxYNij",
    "outputId": "4a9deb5f-9857-4ab6-bd97-b73ce90e5161"
   },
   "outputs": [
    {
     "name": "stdout",
     "output_type": "stream",
     "text": [
      "Total token count: 168639\n"
     ]
    }
   ],
   "source": [
    "# Count total number of tokens\n",
    "\n",
    "\n",
    "# create a function to tokenize the text and count the number of tokens\n",
    "def count_tokens(text):\n",
    "    tokens = nltk.word_tokenize(text)\n",
    "    return len(tokens)\n",
    "\n",
    "# apply the function to the \"Text\" column to get the token count for each text\n",
    "token_counts = df['Text'].apply(count_tokens)\n",
    "\n",
    "# calculate the total token count by summing the counts for each text\n",
    "total_token_count = token_counts.sum()\n",
    "\n",
    "# print the total token count\n",
    "print(\"Total token count:\", total_token_count)\n"
   ]
  },
  {
   "cell_type": "code",
   "execution_count": null,
   "metadata": {
    "colab": {
     "base_uri": "https://localhost:8080/"
    },
    "executionInfo": {
     "elapsed": 5,
     "status": "ok",
     "timestamp": 1677966995608,
     "user": {
      "displayName": "Raunak Lalmuanpuia B.Tech",
      "userId": "15884474661511167181"
     },
     "user_tz": -330
    },
    "id": "BiJ6FiPye262",
    "outputId": "8d84b265-16d8-41ea-d320-22dde145935c"
   },
   "outputs": [
    {
     "name": "stdout",
     "output_type": "stream",
     "text": [
      "Total number of words: 165551\n"
     ]
    }
   ],
   "source": [
    "# count the number of words in the \"Text\" column using the str.split() method and the len() function\n",
    "num_words = sum(df['Text'].str.split().apply(len))\n",
    "\n",
    "# print the total number of words\n",
    "print(\"Total number of words:\", num_words)"
   ]
  },
  {
   "cell_type": "code",
   "execution_count": null,
   "metadata": {
    "colab": {
     "base_uri": "https://localhost:8080/"
    },
    "executionInfo": {
     "elapsed": 1241,
     "status": "ok",
     "timestamp": 1677966996846,
     "user": {
      "displayName": "Raunak Lalmuanpuia B.Tech",
      "userId": "15884474661511167181"
     },
     "user_tz": -330
    },
    "id": "q3rhy4QygJCU",
    "outputId": "bccf968b-64df-413d-ebfb-a8514c1869dc"
   },
   "outputs": [
    {
     "name": "stdout",
     "output_type": "stream",
     "text": [
      "Maximum token count: 109\n"
     ]
    }
   ],
   "source": [
    "# create a function to tokenize the text and count the number of tokens\n",
    "def count_tokens(text):\n",
    "    tokens = nltk.word_tokenize(text)\n",
    "    return len(tokens)\n",
    "\n",
    "# apply the function to the \"Text\" column to get the maximum token count\n",
    "max_token_count = df['Text'].apply(count_tokens).max()\n",
    "\n",
    "# print the maximum token count\n",
    "print(\"Maximum token count:\", max_token_count)"
   ]
  },
  {
   "cell_type": "code",
   "execution_count": null,
   "metadata": {
    "colab": {
     "base_uri": "https://localhost:8080/"
    },
    "executionInfo": {
     "elapsed": 1773,
     "status": "ok",
     "timestamp": 1677966998616,
     "user": {
      "displayName": "Raunak Lalmuanpuia B.Tech",
      "userId": "15884474661511167181"
     },
     "user_tz": -330
    },
    "id": "pKIZVMm8bZQ1",
    "outputId": "dfb0e609-0e5d-475b-a5b8-4df92903b18c"
   },
   "outputs": [
    {
     "name": "stdout",
     "output_type": "stream",
     "text": [
      "Average word count: 15.728315612758813\n"
     ]
    }
   ],
   "source": [
    "# print the average word count\n",
    "\n",
    "# create a function to tokenize the text and count the number of words\n",
    "def count_words(text):\n",
    "    words = nltk.word_tokenize(text)\n",
    "    return len(words)\n",
    "\n",
    "# apply the function to the \"Text\" column to get the word count for each text\n",
    "word_counts = df['Text'].apply(count_words)\n",
    "\n",
    "# calculate the average word count by taking the mean of the counts\n",
    "average_word_count = word_counts.mean()\n",
    "\n",
    "# print the average word count\n",
    "print(\"Average word count:\", average_word_count)"
   ]
  },
  {
   "cell_type": "code",
   "execution_count": null,
   "metadata": {
    "colab": {
     "base_uri": "https://localhost:8080/",
     "height": 390
    },
    "executionInfo": {
     "elapsed": 3,
     "status": "ok",
     "timestamp": 1677966998616,
     "user": {
      "displayName": "Raunak Lalmuanpuia B.Tech",
      "userId": "15884474661511167181"
     },
     "user_tz": -330
    },
    "id": "EXkldeJRh_o2",
    "outputId": "6fc02440-091b-4025-827f-02bb9bb72126"
   },
   "outputs": [
    {
     "data": {
      "text/html": [
       "\n",
       "  <div id=\"df-1fdd1b03-50c9-4fc3-b07e-a9325b8afd42\">\n",
       "    <div class=\"colab-df-container\">\n",
       "      <div>\n",
       "<style scoped>\n",
       "    .dataframe tbody tr th:only-of-type {\n",
       "        vertical-align: middle;\n",
       "    }\n",
       "\n",
       "    .dataframe tbody tr th {\n",
       "        vertical-align: top;\n",
       "    }\n",
       "\n",
       "    .dataframe thead th {\n",
       "        text-align: right;\n",
       "    }\n",
       "</style>\n",
       "<table border=\"1\" class=\"dataframe\">\n",
       "  <thead>\n",
       "    <tr style=\"text-align: right;\">\n",
       "      <th></th>\n",
       "      <th>Text</th>\n",
       "      <th>Emotion</th>\n",
       "    </tr>\n",
       "  </thead>\n",
       "  <tbody>\n",
       "    <tr>\n",
       "      <th>5</th>\n",
       "      <td>ka hmu leh tawh dawn lo hi k va han lunngai t...</td>\n",
       "      <td>sadness</td>\n",
       "    </tr>\n",
       "    <tr>\n",
       "      <th>6</th>\n",
       "      <td>ka ball min vawm bo sak daih chu le .</td>\n",
       "      <td>anger</td>\n",
       "    </tr>\n",
       "    <tr>\n",
       "      <th>7</th>\n",
       "      <td>mite chuan an nantna te chu an hlimna derin an...</td>\n",
       "      <td>sadness</td>\n",
       "    </tr>\n",
       "    <tr>\n",
       "      <th>8</th>\n",
       "      <td>a pian tirha ta vawi khat nan ka thianna pa ch...</td>\n",
       "      <td>joy</td>\n",
       "    </tr>\n",
       "    <tr>\n",
       "      <th>9</th>\n",
       "      <td>mi hlimna lakah chuan tuman thil dang an ti ng...</td>\n",
       "      <td>fear</td>\n",
       "    </tr>\n",
       "    <tr>\n",
       "      <th>10</th>\n",
       "      <td>ka thil neih zawng zawng nen ka hua che !</td>\n",
       "      <td>anger</td>\n",
       "    </tr>\n",
       "    <tr>\n",
       "      <th>11</th>\n",
       "      <td>ka thiannu kawi chu ava to tak em</td>\n",
       "      <td>sadness</td>\n",
       "    </tr>\n",
       "    <tr>\n",
       "      <th>12</th>\n",
       "      <td>ka rawn haw meuh chuan ka in chu a lo danglam ...</td>\n",
       "      <td>sadness</td>\n",
       "    </tr>\n",
       "    <tr>\n",
       "      <th>13</th>\n",
       "      <td>ka pass dawn chiang lutuk</td>\n",
       "      <td>joy</td>\n",
       "    </tr>\n",
       "    <tr>\n",
       "      <th>14</th>\n",
       "      <td>that hlauh chu  I kal ang u hmiang .</td>\n",
       "      <td>joy</td>\n",
       "    </tr>\n",
       "    <tr>\n",
       "      <th>15</th>\n",
       "      <td>thil hrilh tur che ka nei mahse ka nei a mahse...</td>\n",
       "      <td>sadness</td>\n",
       "    </tr>\n",
       "  </tbody>\n",
       "</table>\n",
       "</div>\n",
       "      <button class=\"colab-df-convert\" onclick=\"convertToInteractive('df-1fdd1b03-50c9-4fc3-b07e-a9325b8afd42')\"\n",
       "              title=\"Convert this dataframe to an interactive table.\"\n",
       "              style=\"display:none;\">\n",
       "        \n",
       "  <svg xmlns=\"http://www.w3.org/2000/svg\" height=\"24px\"viewBox=\"0 0 24 24\"\n",
       "       width=\"24px\">\n",
       "    <path d=\"M0 0h24v24H0V0z\" fill=\"none\"/>\n",
       "    <path d=\"M18.56 5.44l.94 2.06.94-2.06 2.06-.94-2.06-.94-.94-2.06-.94 2.06-2.06.94zm-11 1L8.5 8.5l.94-2.06 2.06-.94-2.06-.94L8.5 2.5l-.94 2.06-2.06.94zm10 10l.94 2.06.94-2.06 2.06-.94-2.06-.94-.94-2.06-.94 2.06-2.06.94z\"/><path d=\"M17.41 7.96l-1.37-1.37c-.4-.4-.92-.59-1.43-.59-.52 0-1.04.2-1.43.59L10.3 9.45l-7.72 7.72c-.78.78-.78 2.05 0 2.83L4 21.41c.39.39.9.59 1.41.59.51 0 1.02-.2 1.41-.59l7.78-7.78 2.81-2.81c.8-.78.8-2.07 0-2.86zM5.41 20L4 18.59l7.72-7.72 1.47 1.35L5.41 20z\"/>\n",
       "  </svg>\n",
       "      </button>\n",
       "      \n",
       "  <style>\n",
       "    .colab-df-container {\n",
       "      display:flex;\n",
       "      flex-wrap:wrap;\n",
       "      gap: 12px;\n",
       "    }\n",
       "\n",
       "    .colab-df-convert {\n",
       "      background-color: #E8F0FE;\n",
       "      border: none;\n",
       "      border-radius: 50%;\n",
       "      cursor: pointer;\n",
       "      display: none;\n",
       "      fill: #1967D2;\n",
       "      height: 32px;\n",
       "      padding: 0 0 0 0;\n",
       "      width: 32px;\n",
       "    }\n",
       "\n",
       "    .colab-df-convert:hover {\n",
       "      background-color: #E2EBFA;\n",
       "      box-shadow: 0px 1px 2px rgba(60, 64, 67, 0.3), 0px 1px 3px 1px rgba(60, 64, 67, 0.15);\n",
       "      fill: #174EA6;\n",
       "    }\n",
       "\n",
       "    [theme=dark] .colab-df-convert {\n",
       "      background-color: #3B4455;\n",
       "      fill: #D2E3FC;\n",
       "    }\n",
       "\n",
       "    [theme=dark] .colab-df-convert:hover {\n",
       "      background-color: #434B5C;\n",
       "      box-shadow: 0px 1px 3px 1px rgba(0, 0, 0, 0.15);\n",
       "      filter: drop-shadow(0px 1px 2px rgba(0, 0, 0, 0.3));\n",
       "      fill: #FFFFFF;\n",
       "    }\n",
       "  </style>\n",
       "\n",
       "      <script>\n",
       "        const buttonEl =\n",
       "          document.querySelector('#df-1fdd1b03-50c9-4fc3-b07e-a9325b8afd42 button.colab-df-convert');\n",
       "        buttonEl.style.display =\n",
       "          google.colab.kernel.accessAllowed ? 'block' : 'none';\n",
       "\n",
       "        async function convertToInteractive(key) {\n",
       "          const element = document.querySelector('#df-1fdd1b03-50c9-4fc3-b07e-a9325b8afd42');\n",
       "          const dataTable =\n",
       "            await google.colab.kernel.invokeFunction('convertToInteractive',\n",
       "                                                     [key], {});\n",
       "          if (!dataTable) return;\n",
       "\n",
       "          const docLinkHtml = 'Like what you see? Visit the ' +\n",
       "            '<a target=\"_blank\" href=https://colab.research.google.com/notebooks/data_table.ipynb>data table notebook</a>'\n",
       "            + ' to learn more about interactive tables.';\n",
       "          element.innerHTML = '';\n",
       "          dataTable['output_type'] = 'display_data';\n",
       "          await google.colab.output.renderOutput(dataTable, element);\n",
       "          const docLink = document.createElement('div');\n",
       "          docLink.innerHTML = docLinkHtml;\n",
       "          element.appendChild(docLink);\n",
       "        }\n",
       "      </script>\n",
       "    </div>\n",
       "  </div>\n",
       "  "
      ],
      "text/plain": [
       "                                                 Text  Emotion\n",
       "5    ka hmu leh tawh dawn lo hi k va han lunngai t...  sadness\n",
       "6               ka ball min vawm bo sak daih chu le .    anger\n",
       "7   mite chuan an nantna te chu an hlimna derin an...  sadness\n",
       "8   a pian tirha ta vawi khat nan ka thianna pa ch...      joy\n",
       "9   mi hlimna lakah chuan tuman thil dang an ti ng...     fear\n",
       "10          ka thil neih zawng zawng nen ka hua che !    anger\n",
       "11                  ka thiannu kawi chu ava to tak em  sadness\n",
       "12  ka rawn haw meuh chuan ka in chu a lo danglam ...  sadness\n",
       "13                          ka pass dawn chiang lutuk      joy\n",
       "14               that hlauh chu  I kal ang u hmiang .      joy\n",
       "15  thil hrilh tur che ka nei mahse ka nei a mahse...  sadness"
      ]
     },
     "execution_count": 73,
     "metadata": {},
     "output_type": "execute_result"
    }
   ],
   "source": [
    "df.iloc[5:16]"
   ]
  },
  {
   "cell_type": "markdown",
   "metadata": {
    "id": "W-lG6Edli_YL"
   },
   "source": [
    "#Save table as Image"
   ]
  },
  {
   "cell_type": "code",
   "execution_count": null,
   "metadata": {
    "colab": {
     "base_uri": "https://localhost:8080/",
     "height": 248
    },
    "executionInfo": {
     "elapsed": 566,
     "status": "ok",
     "timestamp": 1677966999180,
     "user": {
      "displayName": "Raunak Lalmuanpuia B.Tech",
      "userId": "15884474661511167181"
     },
     "user_tz": -330
    },
    "id": "hOOuGUcyiRhF",
    "outputId": "e2155007-6dc4-404e-a152-deb889a652b5"
   },
   "outputs": [
    {
     "data": {
      "image/png": "[encoded data removed]",
      "text/plain": [
       "<Figure size 432x288 with 1 Axes>"
      ]
     },
     "metadata": {
      "needs_background": "light"
     },
     "output_type": "display_data"
    }
   ],
   "source": [
    "import matplotlib.pyplot as plt\n",
    "\n",
    "# Assume df is your dataframe\n",
    "df_subset = df.iloc[4:15, :]  # Get rows 5 to 15, inclusive\n",
    "fig, ax = plt.subplots(1, 1)\n",
    "ax.axis('off')  # Hide axis labels and ticks\n",
    "ax.axis('tight')  # Set table size to fit cell contents\n",
    "table = ax.table(cellText=df_subset.values, colLabels=df_subset.columns, loc='center')\n",
    "\n",
    "# Save the table as an image file\n",
    "plt.savefig('DatasetSample.png')"
   ]
  },
  {
   "cell_type": "code",
   "execution_count": null,
   "metadata": {
    "colab": {
     "base_uri": "https://localhost:8080/",
     "height": 248
    },
    "executionInfo": {
     "elapsed": 1244,
     "status": "ok",
     "timestamp": 1677967041365,
     "user": {
      "displayName": "Raunak Lalmuanpuia B.Tech",
      "userId": "15884474661511167181"
     },
     "user_tz": -330
    },
    "id": "6RBlhMqoj8um",
    "outputId": "793c8db6-376d-4f1f-9acb-069b04aef0f0"
   },
   "outputs": [
    {
     "data": {
      "image/png": "[encoded data removed]",
      "text/plain": [
       "<Figure size 432x288 with 1 Axes>"
      ]
     },
     "metadata": {
      "needs_background": "light"
     },
     "output_type": "display_data"
    }
   ],
   "source": [
    "import matplotlib.pyplot as plt\n",
    "\n",
    "# Assume df is your dataframe\n",
    "df_subset = df.iloc[4:15, :]  # Get rows 5 to 15, inclusive\n",
    "fig, ax = plt.subplots(1, 1)\n",
    "ax.axis('off')  # Hide axis labels and ticks\n",
    "ax.axis('tight')  # Set table size to fit cell contents\n",
    "table = ax.table(cellText=df_subset.values, colLabels=df_subset.columns, loc='center')\n",
    "table.auto_set_font_size(False)  # Turn off automatic font scaling\n",
    "table.set_fontsize(14)  # Set font size for table cells\n",
    "table.scale(1, 1.5)  # Adjust cell padding\n",
    "\n",
    "# Save the table as an image file\n",
    "plt.savefig('table_image1.png')"
   ]
  },
  {
   "cell_type": "code",
   "execution_count": null,
   "metadata": {
    "colab": {
     "base_uri": "https://localhost:8080/",
     "height": 368
    },
    "executionInfo": {
     "elapsed": 9,
     "status": "error",
     "timestamp": 1677967847284,
     "user": {
      "displayName": "Raunak Lalmuanpuia B.Tech",
      "userId": "15884474661511167181"
     },
     "user_tz": -330
    },
    "id": "3714hyjdq0s-",
    "outputId": "5e7d7095-2ef5-48c7-cc9b-f87775e0a89e"
   },
   "outputs": [
    {
     "ename": "ModuleNotFoundError",
     "errorDetails": {
      "actions": [
       {
        "action": "open_url",
        "actionText": "Open Examples",
        "url": "/notebooks/snippets/importing_libraries.ipynb"
       }
      ]
     },
     "evalue": "ignored",
     "output_type": "error",
     "traceback": [
      "\u001b[0;31m---------------------------------------------------------------------------\u001b[0m",
      "\u001b[0;31mModuleNotFoundError\u001b[0m                       Traceback (most recent call last)",
      "\u001b[0;32m<ipython-input-83-b72b890a4520>\u001b[0m in \u001b[0;36m<module>\u001b[0;34m\u001b[0m\n\u001b[1;32m      1\u001b[0m \u001b[0;32mimport\u001b[0m \u001b[0mmatplotlib\u001b[0m\u001b[0;34m.\u001b[0m\u001b[0mpyplot\u001b[0m \u001b[0;32mas\u001b[0m \u001b[0mplt\u001b[0m\u001b[0;34m\u001b[0m\u001b[0;34m\u001b[0m\u001b[0m\n\u001b[1;32m      2\u001b[0m \u001b[0;32mimport\u001b[0m \u001b[0mpandas\u001b[0m \u001b[0;32mas\u001b[0m \u001b[0mpd\u001b[0m\u001b[0;34m\u001b[0m\u001b[0;34m\u001b[0m\u001b[0m\n\u001b[0;32m----> 3\u001b[0;31m \u001b[0;32mfrom\u001b[0m \u001b[0mpandas\u001b[0m\u001b[0;34m.\u001b[0m\u001b[0mtable\u001b[0m\u001b[0;34m.\u001b[0m\u001b[0mplotting\u001b[0m \u001b[0;32mimport\u001b[0m \u001b[0mtable\u001b[0m \u001b[0;31m# EDIT: see deprecation warnings below\u001b[0m\u001b[0;34m\u001b[0m\u001b[0;34m\u001b[0m\u001b[0m\n\u001b[0m\u001b[1;32m      4\u001b[0m \u001b[0;34m\u001b[0m\u001b[0m\n\u001b[1;32m      5\u001b[0m \u001b[0max\u001b[0m \u001b[0;34m=\u001b[0m \u001b[0mplt\u001b[0m\u001b[0;34m.\u001b[0m\u001b[0msubplot\u001b[0m\u001b[0;34m(\u001b[0m\u001b[0;36m111\u001b[0m\u001b[0;34m,\u001b[0m \u001b[0mframe_on\u001b[0m\u001b[0;34m=\u001b[0m\u001b[0;32mFalse\u001b[0m\u001b[0;34m)\u001b[0m \u001b[0;31m# no visible frame\u001b[0m\u001b[0;34m\u001b[0m\u001b[0;34m\u001b[0m\u001b[0m\n",
      "\u001b[0;31mModuleNotFoundError\u001b[0m: No module named 'pandas.table'",
      "",
      "\u001b[0;31m---------------------------------------------------------------------------\u001b[0;32m\nNOTE: If your import is failing due to a missing package, you can\nmanually install dependencies using either !pip or !apt.\n\nTo view examples of installing some common dependencies, click the\n\"Open Examples\" button below.\n\u001b[0;31m---------------------------------------------------------------------------\u001b[0m\n"
     ]
    }
   ],
   "source": [
    "import matplotlib.pyplot as plt\n",
    "import pandas as pd\n",
    "from pandas.table.plotting import table # EDIT: see deprecation warnings below\n",
    "\n",
    "ax = plt.subplot(111, frame_on=False) # no visible frame\n",
    "ax.xaxis.set_visible(False)  # hide the x axis\n",
    "ax.yaxis.set_visible(False)  # hide the y axis\n",
    "\n",
    "table(ax, df)  # where df is your data frame\n",
    "\n",
    "plt.savefig('mytable.png')"
   ]
  },
  {
   "cell_type": "code",
   "execution_count": null,
   "metadata": {
    "id": "ctqgG7xGsa4f"
   },
   "outputs": [],
   "source": [
    "new_df = df.iloc[4:15, :]"
   ]
  },
  {
   "cell_type": "code",
   "execution_count": null,
   "metadata": {
    "colab": {
     "base_uri": "https://localhost:8080/",
     "height": 390
    },
    "executionInfo": {
     "elapsed": 3,
     "status": "ok",
     "timestamp": 1677968141593,
     "user": {
      "displayName": "Raunak Lalmuanpuia B.Tech",
      "userId": "15884474661511167181"
     },
     "user_tz": -330
    },
    "id": "qUmg1HIUscdh",
    "outputId": "f3dcaa18-81cd-4682-e25d-8761455374cb"
   },
   "outputs": [
    {
     "data": {
      "text/html": [
       "\n",
       "  <div id=\"df-b2837dc4-56c9-47eb-8f16-99f2faed8163\">\n",
       "    <div class=\"colab-df-container\">\n",
       "      <div>\n",
       "<style scoped>\n",
       "    .dataframe tbody tr th:only-of-type {\n",
       "        vertical-align: middle;\n",
       "    }\n",
       "\n",
       "    .dataframe tbody tr th {\n",
       "        vertical-align: top;\n",
       "    }\n",
       "\n",
       "    .dataframe thead th {\n",
       "        text-align: right;\n",
       "    }\n",
       "</style>\n",
       "<table border=\"1\" class=\"dataframe\">\n",
       "  <thead>\n",
       "    <tr style=\"text-align: right;\">\n",
       "      <th></th>\n",
       "      <th>Text</th>\n",
       "      <th>Emotion</th>\n",
       "    </tr>\n",
       "  </thead>\n",
       "  <tbody>\n",
       "    <tr>\n",
       "      <th>4</th>\n",
       "      <td>phone call pawimawh deuh ka nghak mek ka va ha...</td>\n",
       "      <td>fear</td>\n",
       "    </tr>\n",
       "    <tr>\n",
       "      <th>5</th>\n",
       "      <td>ka hmu leh tawh dawn lo hi k va han lunngai t...</td>\n",
       "      <td>sadness</td>\n",
       "    </tr>\n",
       "    <tr>\n",
       "      <th>6</th>\n",
       "      <td>ka ball min vawm bo sak daih chu le .</td>\n",
       "      <td>anger</td>\n",
       "    </tr>\n",
       "    <tr>\n",
       "      <th>7</th>\n",
       "      <td>mite chuan an nantna te chu an hlimna derin an...</td>\n",
       "      <td>sadness</td>\n",
       "    </tr>\n",
       "    <tr>\n",
       "      <th>8</th>\n",
       "      <td>a pian tirha ta vawi khat nan ka thianna pa ch...</td>\n",
       "      <td>joy</td>\n",
       "    </tr>\n",
       "    <tr>\n",
       "      <th>9</th>\n",
       "      <td>mi hlimna lakah chuan tuman thil dang an ti ng...</td>\n",
       "      <td>fear</td>\n",
       "    </tr>\n",
       "    <tr>\n",
       "      <th>10</th>\n",
       "      <td>ka thil neih zawng zawng nen ka hua che !</td>\n",
       "      <td>anger</td>\n",
       "    </tr>\n",
       "    <tr>\n",
       "      <th>11</th>\n",
       "      <td>ka thiannu kawi chu ava to tak em</td>\n",
       "      <td>sadness</td>\n",
       "    </tr>\n",
       "    <tr>\n",
       "      <th>12</th>\n",
       "      <td>ka rawn haw meuh chuan ka in chu a lo danglam ...</td>\n",
       "      <td>sadness</td>\n",
       "    </tr>\n",
       "    <tr>\n",
       "      <th>13</th>\n",
       "      <td>ka pass dawn chiang lutuk</td>\n",
       "      <td>joy</td>\n",
       "    </tr>\n",
       "    <tr>\n",
       "      <th>14</th>\n",
       "      <td>that hlauh chu  I kal ang u hmiang .</td>\n",
       "      <td>joy</td>\n",
       "    </tr>\n",
       "  </tbody>\n",
       "</table>\n",
       "</div>\n",
       "      <button class=\"colab-df-convert\" onclick=\"convertToInteractive('df-b2837dc4-56c9-47eb-8f16-99f2faed8163')\"\n",
       "              title=\"Convert this dataframe to an interactive table.\"\n",
       "              style=\"display:none;\">\n",
       "        \n",
       "  <svg xmlns=\"http://www.w3.org/2000/svg\" height=\"24px\"viewBox=\"0 0 24 24\"\n",
       "       width=\"24px\">\n",
       "    <path d=\"M0 0h24v24H0V0z\" fill=\"none\"/>\n",
       "    <path d=\"M18.56 5.44l.94 2.06.94-2.06 2.06-.94-2.06-.94-.94-2.06-.94 2.06-2.06.94zm-11 1L8.5 8.5l.94-2.06 2.06-.94-2.06-.94L8.5 2.5l-.94 2.06-2.06.94zm10 10l.94 2.06.94-2.06 2.06-.94-2.06-.94-.94-2.06-.94 2.06-2.06.94z\"/><path d=\"M17.41 7.96l-1.37-1.37c-.4-.4-.92-.59-1.43-.59-.52 0-1.04.2-1.43.59L10.3 9.45l-7.72 7.72c-.78.78-.78 2.05 0 2.83L4 21.41c.39.39.9.59 1.41.59.51 0 1.02-.2 1.41-.59l7.78-7.78 2.81-2.81c.8-.78.8-2.07 0-2.86zM5.41 20L4 18.59l7.72-7.72 1.47 1.35L5.41 20z\"/>\n",
       "  </svg>\n",
       "      </button>\n",
       "      \n",
       "  <style>\n",
       "    .colab-df-container {\n",
       "      display:flex;\n",
       "      flex-wrap:wrap;\n",
       "      gap: 12px;\n",
       "    }\n",
       "\n",
       "    .colab-df-convert {\n",
       "      background-color: #E8F0FE;\n",
       "      border: none;\n",
       "      border-radius: 50%;\n",
       "      cursor: pointer;\n",
       "      display: none;\n",
       "      fill: #1967D2;\n",
       "      height: 32px;\n",
       "      padding: 0 0 0 0;\n",
       "      width: 32px;\n",
       "    }\n",
       "\n",
       "    .colab-df-convert:hover {\n",
       "      background-color: #E2EBFA;\n",
       "      box-shadow: 0px 1px 2px rgba(60, 64, 67, 0.3), 0px 1px 3px 1px rgba(60, 64, 67, 0.15);\n",
       "      fill: #174EA6;\n",
       "    }\n",
       "\n",
       "    [theme=dark] .colab-df-convert {\n",
       "      background-color: #3B4455;\n",
       "      fill: #D2E3FC;\n",
       "    }\n",
       "\n",
       "    [theme=dark] .colab-df-convert:hover {\n",
       "      background-color: #434B5C;\n",
       "      box-shadow: 0px 1px 3px 1px rgba(0, 0, 0, 0.15);\n",
       "      filter: drop-shadow(0px 1px 2px rgba(0, 0, 0, 0.3));\n",
       "      fill: #FFFFFF;\n",
       "    }\n",
       "  </style>\n",
       "\n",
       "      <script>\n",
       "        const buttonEl =\n",
       "          document.querySelector('#df-b2837dc4-56c9-47eb-8f16-99f2faed8163 button.colab-df-convert');\n",
       "        buttonEl.style.display =\n",
       "          google.colab.kernel.accessAllowed ? 'block' : 'none';\n",
       "\n",
       "        async function convertToInteractive(key) {\n",
       "          const element = document.querySelector('#df-b2837dc4-56c9-47eb-8f16-99f2faed8163');\n",
       "          const dataTable =\n",
       "            await google.colab.kernel.invokeFunction('convertToInteractive',\n",
       "                                                     [key], {});\n",
       "          if (!dataTable) return;\n",
       "\n",
       "          const docLinkHtml = 'Like what you see? Visit the ' +\n",
       "            '<a target=\"_blank\" href=https://colab.research.google.com/notebooks/data_table.ipynb>data table notebook</a>'\n",
       "            + ' to learn more about interactive tables.';\n",
       "          element.innerHTML = '';\n",
       "          dataTable['output_type'] = 'display_data';\n",
       "          await google.colab.output.renderOutput(dataTable, element);\n",
       "          const docLink = document.createElement('div');\n",
       "          docLink.innerHTML = docLinkHtml;\n",
       "          element.appendChild(docLink);\n",
       "        }\n",
       "      </script>\n",
       "    </div>\n",
       "  </div>\n",
       "  "
      ],
      "text/plain": [
       "                                                 Text  Emotion\n",
       "4   phone call pawimawh deuh ka nghak mek ka va ha...     fear\n",
       "5    ka hmu leh tawh dawn lo hi k va han lunngai t...  sadness\n",
       "6               ka ball min vawm bo sak daih chu le .    anger\n",
       "7   mite chuan an nantna te chu an hlimna derin an...  sadness\n",
       "8   a pian tirha ta vawi khat nan ka thianna pa ch...      joy\n",
       "9   mi hlimna lakah chuan tuman thil dang an ti ng...     fear\n",
       "10          ka thil neih zawng zawng nen ka hua che !    anger\n",
       "11                  ka thiannu kawi chu ava to tak em  sadness\n",
       "12  ka rawn haw meuh chuan ka in chu a lo danglam ...  sadness\n",
       "13                          ka pass dawn chiang lutuk      joy\n",
       "14               that hlauh chu  I kal ang u hmiang .      joy"
      ]
     },
     "execution_count": 86,
     "metadata": {},
     "output_type": "execute_result"
    }
   ],
   "source": [
    "new_df"
   ]
  },
  {
   "cell_type": "code",
   "execution_count": null,
   "metadata": {
    "colab": {
     "base_uri": "https://localhost:8080/",
     "height": 248
    },
    "executionInfo": {
     "elapsed": 1069,
     "status": "ok",
     "timestamp": 1677968170429,
     "user": {
      "displayName": "Raunak Lalmuanpuia B.Tech",
      "userId": "15884474661511167181"
     },
     "user_tz": -330
    },
    "id": "3ISYBxm8rWeK",
    "outputId": "8f9541a8-abb9-448c-be6c-a4a4867d2b8f"
   },
   "outputs": [
    {
     "data": {
      "image/png": "[encoded data removed]",
      "text/plain": [
       "<Figure size 432x288 with 1 Axes>"
      ]
     },
     "metadata": {
      "needs_background": "light"
     },
     "output_type": "display_data"
    }
   ],
   "source": [
    "fig, ax = plt.subplots(1, 1)\n",
    "table = ax.table(cellText=new_df.values, colLabels=new_df.columns, loc='center')\n",
    "table.auto_set_font_size(False)\n",
    "table.set_fontsize(14)\n",
    "table.scale(1, 1.5)\n",
    "ax.axis('off')\n",
    "plt.show()"
   ]
  },
  {
   "cell_type": "code",
   "execution_count": null,
   "metadata": {
    "colab": {
     "base_uri": "https://localhost:8080/",
     "height": 248
    },
    "executionInfo": {
     "elapsed": 1306,
     "status": "ok",
     "timestamp": 1677968332637,
     "user": {
      "displayName": "Raunak Lalmuanpuia B.Tech",
      "userId": "15884474661511167181"
     },
     "user_tz": -330
    },
    "id": "f3ZZZgnlr7p8",
    "outputId": "2a03fcfc-9237-4f0c-da11-591c2eaadcee"
   },
   "outputs": [
    {
     "data": {
      "image/png": "[encoded data removed]",
      "text/plain": [
       "<Figure size 432x288 with 1 Axes>"
      ]
     },
     "metadata": {
      "needs_background": "light"
     },
     "output_type": "display_data"
    }
   ],
   "source": [
    "import pandas as pd\n",
    "import matplotlib.pyplot as plt\n",
    "\n",
    "\n",
    "\n",
    "# create a table plot of the DataFrame\n",
    "fig, ax = plt.subplots(1, 1)\n",
    "table_data = [new_df.columns.tolist()] + new_df.values.tolist()\n",
    "ax.axis('off')\n",
    "ax.table(cellText=table_data, colWidths=[0.2, 0.2], cellLoc='center', loc='upper left')\n",
    "\n",
    "# save the plot as an image file\n",
    "plt.savefig('categorical_data_table.png')\n"
   ]
  },
  {
   "cell_type": "code",
   "execution_count": null,
   "metadata": {
    "id": "jICSiaHftM6R"
   },
   "outputs": [],
   "source": []
  }
 ],
 "metadata": {
  "colab": {
   "authorship_tag": "ABX9TyNvN6pCPw2uv+p26VClpIXK",
   "provenance": []
  },
  "kernelspec": {
   "display_name": "Python 3 (ipykernel)",
   "language": "python",
   "name": "python3"
  },
  "language_info": {
   "codemirror_mode": {
    "name": "ipython",
    "version": 3
   },
   "file_extension": ".py",
   "mimetype": "text/x-python",
   "name": "python",
   "nbconvert_exporter": "python",
   "pygments_lexer": "ipython3",
   "version": "3.9.13"
  }
 },
 "nbformat": 4,
 "nbformat_minor": 1
}
